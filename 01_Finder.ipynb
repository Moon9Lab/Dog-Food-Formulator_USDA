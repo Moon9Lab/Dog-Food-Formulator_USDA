{
 "cells": [
  {
   "cell_type": "code",
   "execution_count": 1,
   "id": "07f0c218-bee6-41e1-9f81-188b97a8fbd0",
   "metadata": {
    "collapsed": true,
    "jupyter": {
     "outputs_hidden": true
    },
    "tags": []
   },
   "outputs": [
    {
     "name": "stdout",
     "output_type": "stream",
     "text": [
      "Merged food_category and food:\n",
      "   id  code     description_x  fdc_id       data_type  \\\n",
      "0   2   200  Spices and Herbs  170917  sr_legacy_food   \n",
      "1   2   200  Spices and Herbs  170918  sr_legacy_food   \n",
      "2   2   200  Spices and Herbs  170919  sr_legacy_food   \n",
      "3   2   200  Spices and Herbs  170920  sr_legacy_food   \n",
      "4   2   200  Spices and Herbs  170921  sr_legacy_food   \n",
      "\n",
      "                   description_y  food_category_id publication_date  \n",
      "0               Spices, bay leaf                 2       2019-04-01  \n",
      "1           Spices, caraway seed                 2       2019-04-01  \n",
      "2               Spices, cardamom                 2       2019-04-01  \n",
      "3            Spices, celery seed                 2       2019-04-01  \n",
      "4  Spices, coriander leaf, dried                 2       2019-04-01  \n",
      "\n",
      "Merged food and food_nutrient:\n",
      "   fdc_id       data_type                                        description  \\\n",
      "0  167512  sr_legacy_food  Pillsbury Golden Layer Buttermilk Biscuits, Ar...   \n",
      "1  167512  sr_legacy_food  Pillsbury Golden Layer Buttermilk Biscuits, Ar...   \n",
      "2  167512  sr_legacy_food  Pillsbury Golden Layer Buttermilk Biscuits, Ar...   \n",
      "3  167512  sr_legacy_food  Pillsbury Golden Layer Buttermilk Biscuits, Ar...   \n",
      "4  167512  sr_legacy_food  Pillsbury Golden Layer Buttermilk Biscuits, Ar...   \n",
      "\n",
      "   food_category_id publication_date       id  nutrient_id   amount  \\\n",
      "0                18       2019-04-01  1283674         1003     5.88   \n",
      "1                18       2019-04-01  1283675         1007     3.50   \n",
      "2                18       2019-04-01  1283676         1062  1286.00   \n",
      "3                18       2019-04-01  1283677         1079     1.20   \n",
      "4                18       2019-04-01  1283678         1089     2.12   \n",
      "\n",
      "   data_points  derivation_id  min  max  median footnote  min_year_acquired  \n",
      "0            1           46.0  NaN  NaN     NaN      NaN                NaN  \n",
      "1            1           46.0  NaN  NaN     NaN      NaN                NaN  \n",
      "2            0           49.0  NaN  NaN     NaN      NaN                NaN  \n",
      "3            1           46.0  NaN  NaN     NaN      NaN                NaN  \n",
      "4            1           46.0  NaN  NaN     NaN      NaN                NaN  \n",
      "\n",
      "Merged nutrient and food_nutrient:\n",
      "   id_x     name unit_name  nutrient_nbr   rank     id_y  fdc_id  nutrient_id  \\\n",
      "0  1003  Protein         G         203.0  600.0  1283674  167512         1003   \n",
      "1  1003  Protein         G         203.0  600.0  1283688  167513         1003   \n",
      "2  1003  Protein         G         203.0  600.0  1283712  167514         1003   \n",
      "3  1003  Protein         G         203.0  600.0  1283725  167515         1003   \n",
      "4  1003  Protein         G         203.0  600.0  1283760  167516         1003   \n",
      "\n",
      "   amount  data_points  derivation_id   min   max  median footnote  \\\n",
      "0    5.88            1           46.0   NaN   NaN     NaN      NaN   \n",
      "1    4.34            1           47.0   NaN   NaN     NaN      NaN   \n",
      "2    6.10            1            1.0   NaN   NaN     NaN      NaN   \n",
      "3    8.00            1           47.0   NaN   NaN     NaN      NaN   \n",
      "4    6.58            2            1.0  6.44  6.72     NaN      NaN   \n",
      "\n",
      "   min_year_acquired  \n",
      "0                NaN  \n",
      "1                NaN  \n",
      "2                NaN  \n",
      "3                NaN  \n",
      "4                NaN  \n"
     ]
    }
   ],
   "source": [
    "# Import necessary libraries\n",
    "import pandas as pd\n",
    "import matplotlib.pyplot as plt\n",
    "import ipywidgets as widgets\n",
    "from IPython.display import display\n",
    "\n",
    "# Load CSV files into DataFrames\n",
    "food_category_df = pd.read_csv('Data/food_category.csv')\n",
    "food_df = pd.read_csv('Data/food.csv')\n",
    "food_nutrient_df = pd.read_csv('Data/food_nutrient.csv')\n",
    "nutrient_df = pd.read_csv('Data/nutrient.csv')\n",
    "\n",
    "# Define the food categories you are interested in\n",
    "specified_categories = [\"Vegetables and Vegetable Products\", \n",
    "                        \"Legumes and Legume Products\", \n",
    "                        \"Spices and Herbs\", \n",
    "                        \"Cereal Grains and Pasta\",\n",
    "                        \"Fats and Oils\"]\n",
    "\n",
    "# Filter the food_category DataFrame to include only the specified categories\n",
    "filtered_food_category_df = food_category_df[food_category_df['description'].isin(specified_categories)]\n",
    "\n",
    "# Merge DataFrames based on common keys\n",
    "# Merge food_category and food on 'id' and 'food_category_id'\n",
    "merged_food_category_food = pd.merge(filtered_food_category_df, food_df, left_on='id', right_on='food_category_id')\n",
    "\n",
    "# Merge food and food_nutrient on 'fdc_id'\n",
    "merged_food_nutrient = pd.merge(food_df, food_nutrient_df, on='fdc_id')\n",
    "\n",
    "# Merge nutrient and food_nutrient on 'id' and 'nutrient_id'\n",
    "merged_nutrient_food_nutrient = pd.merge(nutrient_df, food_nutrient_df, left_on='id', right_on='nutrient_id')\n",
    "\n",
    "# Display first few rows of each merged DataFrame for verification\n",
    "print(\"Merged food_category and food:\")\n",
    "print(merged_food_category_food.head())\n",
    "print(\"\\nMerged food and food_nutrient:\")\n",
    "print(merged_food_nutrient.head())\n",
    "print(\"\\nMerged nutrient and food_nutrient:\")\n",
    "print(merged_nutrient_food_nutrient.head())\n"
   ]
  },
  {
   "cell_type": "code",
   "execution_count": 2,
   "id": "55fd8aa2-9a02-4317-b57e-c27e066b4d1e",
   "metadata": {
    "tags": []
   },
   "outputs": [
    {
     "name": "stdout",
     "output_type": "stream",
     "text": [
      "      fdc_id                                        description  amount\n",
      "0     167523  Pie crust, deep dish, frozen, unbaked, made wi...   0.115\n",
      "1     167525                               Tostada shells, corn   0.124\n",
      "2     167526  Bread, salvadoran sweet cheese (quesadilla sal...   0.489\n",
      "3     167527    Bread, pound cake type, pan de torta salvadoran   1.158\n",
      "4     167528       Pastry, Pastelitos de Guava (guava pastries)   0.163\n",
      "...      ...                                                ...     ...\n",
      "1917  175245  Beans, kidney, red, mature seeds, canned, soli...   0.040\n",
      "1918  175260  Lamb, New Zealand, imported, rack - partly fre...   0.113\n",
      "1919  175261  Lamb, New Zealand, imported, rack - partly fre...   0.133\n",
      "1920  175262  Lamb, New Zealand, imported, square-cut should...   0.256\n",
      "1921  175264  Lamb, New Zealand, imported, square-cut should...   0.140\n",
      "\n",
      "[1922 rows x 3 columns]\n"
     ]
    }
   ],
   "source": [
    "# Step 1: Find the nutrient ID for \"PUFA 18:3 n-3 c,c,c (ALA)\"\n",
    "nutrient_id = nutrient_df[nutrient_df['name'] == 'PUFA 18:3 n-3 c,c,c (ALA)']['id'].values\n",
    "if len(nutrient_id) > 0:\n",
    "    nutrient_id = nutrient_id[0]\n",
    "else:\n",
    "    nutrient_id = None\n",
    "\n",
    "# Step 2: Filter the food_nutrient DataFrame for records where the nutrient value is greater than 0\n",
    "filtered_food_nutrient_df = food_nutrient_df[(food_nutrient_df['nutrient_id'] == nutrient_id) & (food_nutrient_df['amount'] > 0)]\n",
    "\n",
    "# Step 3: Merge the filtered food_nutrient DataFrame with the food DataFrame\n",
    "result_df = pd.merge(filtered_food_nutrient_df, food_df, on='fdc_id')[['fdc_id', 'description', 'amount']]\n",
    "\n",
    "# Display the result\n",
    "print(result_df)\n"
   ]
  },
  {
   "cell_type": "code",
   "execution_count": 3,
   "id": "a9d0585a-ef7c-4d89-ba91-d8b0b688563f",
   "metadata": {
    "tags": []
   },
   "outputs": [
    {
     "data": {
      "application/vnd.jupyter.widget-view+json": {
       "model_id": "080a6fa24b024d78bb67c3b507bddbd2",
       "version_major": 2,
       "version_minor": 0
      },
      "text/plain": [
       "interactive(children=(FloatSlider(value=0.0, continuous_update=False, description='Amount:', max=53.368, step=…"
      ]
     },
     "execution_count": 3,
     "metadata": {},
     "output_type": "execute_result"
    }
   ],
   "source": [
    "# load DataFrames and create the result_df goes here\n",
    "# Interactive widgets\n",
    "amount_slider = widgets.FloatSlider(\n",
    "    value=0,\n",
    "    min=0,\n",
    "    max=result_df['amount'].max(),\n",
    "    step=0.01,\n",
    "    description='Amount:',\n",
    "    continuous_update=False\n",
    ")\n",
    "\n",
    "# Function to update plot\n",
    "def update_plot(amount):\n",
    "    filtered_df = result_df[result_df['amount'] > amount]\n",
    "    plt.figure(figsize=(10, 6))\n",
    "    plt.barh(filtered_df['description'][:10], filtered_df['amount'][:10])\n",
    "    plt.xlabel('Amount')\n",
    "    plt.ylabel('Food Description')\n",
    "    plt.title('Top 10 Foods based on PUFA 18:3 n-3 c,c,c (ALA)')\n",
    "    plt.show()\n",
    "\n",
    "# Interactive display\n",
    "widgets.interactive(update_plot, amount=amount_slider)\n"
   ]
  },
  {
   "cell_type": "code",
   "execution_count": 6,
   "id": "f9c18e42-63ff-4665-a5b6-65cb9325845d",
   "metadata": {},
   "outputs": [
    {
     "ename": "TypeError",
     "evalue": "'>=' not supported between instances of 'str' and 'float'",
     "output_type": "error",
     "traceback": [
      "\u001b[0;31m---------------------------------------------------------------------------\u001b[0m",
      "\u001b[0;31mTypeError\u001b[0m                                 Traceback (most recent call last)",
      "File \u001b[0;32m~/anaconda3/envs/dev/lib/python3.11/site-packages/IPython/core/formatters.py:344\u001b[0m, in \u001b[0;36mBaseFormatter.__call__\u001b[0;34m(self, obj)\u001b[0m\n\u001b[1;32m    342\u001b[0m     method \u001b[38;5;241m=\u001b[39m get_real_method(obj, \u001b[38;5;28mself\u001b[39m\u001b[38;5;241m.\u001b[39mprint_method)\n\u001b[1;32m    343\u001b[0m     \u001b[38;5;28;01mif\u001b[39;00m method \u001b[38;5;129;01mis\u001b[39;00m \u001b[38;5;129;01mnot\u001b[39;00m \u001b[38;5;28;01mNone\u001b[39;00m:\n\u001b[0;32m--> 344\u001b[0m         \u001b[38;5;28;01mreturn\u001b[39;00m method()\n\u001b[1;32m    345\u001b[0m     \u001b[38;5;28;01mreturn\u001b[39;00m \u001b[38;5;28;01mNone\u001b[39;00m\n\u001b[1;32m    346\u001b[0m \u001b[38;5;28;01melse\u001b[39;00m:\n",
      "File \u001b[0;32m~/anaconda3/envs/dev/lib/python3.11/site-packages/pandas/io/formats/style.py:385\u001b[0m, in \u001b[0;36mStyler._repr_html_\u001b[0;34m(self)\u001b[0m\n\u001b[1;32m    380\u001b[0m \u001b[38;5;250m\u001b[39m\u001b[38;5;124;03m\"\"\"\u001b[39;00m\n\u001b[1;32m    381\u001b[0m \u001b[38;5;124;03mHooks into Jupyter notebook rich display system, which calls _repr_html_ by\u001b[39;00m\n\u001b[1;32m    382\u001b[0m \u001b[38;5;124;03mdefault if an object is returned at the end of a cell.\u001b[39;00m\n\u001b[1;32m    383\u001b[0m \u001b[38;5;124;03m\"\"\"\u001b[39;00m\n\u001b[1;32m    384\u001b[0m \u001b[38;5;28;01mif\u001b[39;00m get_option(\u001b[38;5;124m\"\u001b[39m\u001b[38;5;124mstyler.render.repr\u001b[39m\u001b[38;5;124m\"\u001b[39m) \u001b[38;5;241m==\u001b[39m \u001b[38;5;124m\"\u001b[39m\u001b[38;5;124mhtml\u001b[39m\u001b[38;5;124m\"\u001b[39m:\n\u001b[0;32m--> 385\u001b[0m     \u001b[38;5;28;01mreturn\u001b[39;00m \u001b[38;5;28mself\u001b[39m\u001b[38;5;241m.\u001b[39mto_html()\n\u001b[1;32m    386\u001b[0m \u001b[38;5;28;01mreturn\u001b[39;00m \u001b[38;5;28;01mNone\u001b[39;00m\n",
      "File \u001b[0;32m~/anaconda3/envs/dev/lib/python3.11/site-packages/pandas/io/formats/style.py:1377\u001b[0m, in \u001b[0;36mStyler.to_html\u001b[0;34m(self, buf, table_uuid, table_attributes, sparse_index, sparse_columns, bold_headers, caption, max_rows, max_columns, encoding, doctype_html, exclude_styles, **kwargs)\u001b[0m\n\u001b[1;32m   1374\u001b[0m     obj\u001b[38;5;241m.\u001b[39mset_caption(caption)\n\u001b[1;32m   1376\u001b[0m \u001b[38;5;66;03m# Build HTML string..\u001b[39;00m\n\u001b[0;32m-> 1377\u001b[0m html \u001b[38;5;241m=\u001b[39m obj\u001b[38;5;241m.\u001b[39m_render_html(\n\u001b[1;32m   1378\u001b[0m     sparse_index\u001b[38;5;241m=\u001b[39msparse_index,\n\u001b[1;32m   1379\u001b[0m     sparse_columns\u001b[38;5;241m=\u001b[39msparse_columns,\n\u001b[1;32m   1380\u001b[0m     max_rows\u001b[38;5;241m=\u001b[39mmax_rows,\n\u001b[1;32m   1381\u001b[0m     max_cols\u001b[38;5;241m=\u001b[39mmax_columns,\n\u001b[1;32m   1382\u001b[0m     exclude_styles\u001b[38;5;241m=\u001b[39mexclude_styles,\n\u001b[1;32m   1383\u001b[0m     encoding\u001b[38;5;241m=\u001b[39mencoding \u001b[38;5;129;01mor\u001b[39;00m get_option(\u001b[38;5;124m\"\u001b[39m\u001b[38;5;124mstyler.render.encoding\u001b[39m\u001b[38;5;124m\"\u001b[39m),\n\u001b[1;32m   1384\u001b[0m     doctype_html\u001b[38;5;241m=\u001b[39mdoctype_html,\n\u001b[1;32m   1385\u001b[0m     \u001b[38;5;241m*\u001b[39m\u001b[38;5;241m*\u001b[39mkwargs,\n\u001b[1;32m   1386\u001b[0m )\n\u001b[1;32m   1388\u001b[0m \u001b[38;5;28;01mreturn\u001b[39;00m save_to_buffer(\n\u001b[1;32m   1389\u001b[0m     html, buf\u001b[38;5;241m=\u001b[39mbuf, encoding\u001b[38;5;241m=\u001b[39m(encoding \u001b[38;5;28;01mif\u001b[39;00m buf \u001b[38;5;129;01mis\u001b[39;00m \u001b[38;5;129;01mnot\u001b[39;00m \u001b[38;5;28;01mNone\u001b[39;00m \u001b[38;5;28;01melse\u001b[39;00m \u001b[38;5;28;01mNone\u001b[39;00m)\n\u001b[1;32m   1390\u001b[0m )\n",
      "File \u001b[0;32m~/anaconda3/envs/dev/lib/python3.11/site-packages/pandas/io/formats/style_render.py:206\u001b[0m, in \u001b[0;36mStylerRenderer._render_html\u001b[0;34m(self, sparse_index, sparse_columns, max_rows, max_cols, **kwargs)\u001b[0m\n\u001b[1;32m    194\u001b[0m \u001b[38;5;28;01mdef\u001b[39;00m \u001b[38;5;21m_render_html\u001b[39m(\n\u001b[1;32m    195\u001b[0m     \u001b[38;5;28mself\u001b[39m,\n\u001b[1;32m    196\u001b[0m     sparse_index: \u001b[38;5;28mbool\u001b[39m,\n\u001b[0;32m   (...)\u001b[0m\n\u001b[1;32m    200\u001b[0m     \u001b[38;5;241m*\u001b[39m\u001b[38;5;241m*\u001b[39mkwargs,\n\u001b[1;32m    201\u001b[0m ) \u001b[38;5;241m-\u001b[39m\u001b[38;5;241m>\u001b[39m \u001b[38;5;28mstr\u001b[39m:\n\u001b[1;32m    202\u001b[0m \u001b[38;5;250m    \u001b[39m\u001b[38;5;124;03m\"\"\"\u001b[39;00m\n\u001b[1;32m    203\u001b[0m \u001b[38;5;124;03m    Renders the ``Styler`` including all applied styles to HTML.\u001b[39;00m\n\u001b[1;32m    204\u001b[0m \u001b[38;5;124;03m    Generates a dict with necessary kwargs passed to jinja2 template.\u001b[39;00m\n\u001b[1;32m    205\u001b[0m \u001b[38;5;124;03m    \"\"\"\u001b[39;00m\n\u001b[0;32m--> 206\u001b[0m     d \u001b[38;5;241m=\u001b[39m \u001b[38;5;28mself\u001b[39m\u001b[38;5;241m.\u001b[39m_render(sparse_index, sparse_columns, max_rows, max_cols, \u001b[38;5;124m\"\u001b[39m\u001b[38;5;124m&nbsp;\u001b[39m\u001b[38;5;124m\"\u001b[39m)\n\u001b[1;32m    207\u001b[0m     d\u001b[38;5;241m.\u001b[39mupdate(kwargs)\n\u001b[1;32m    208\u001b[0m     \u001b[38;5;28;01mreturn\u001b[39;00m \u001b[38;5;28mself\u001b[39m\u001b[38;5;241m.\u001b[39mtemplate_html\u001b[38;5;241m.\u001b[39mrender(\n\u001b[1;32m    209\u001b[0m         \u001b[38;5;241m*\u001b[39m\u001b[38;5;241m*\u001b[39md,\n\u001b[1;32m    210\u001b[0m         html_table_tpl\u001b[38;5;241m=\u001b[39m\u001b[38;5;28mself\u001b[39m\u001b[38;5;241m.\u001b[39mtemplate_html_table,\n\u001b[1;32m    211\u001b[0m         html_style_tpl\u001b[38;5;241m=\u001b[39m\u001b[38;5;28mself\u001b[39m\u001b[38;5;241m.\u001b[39mtemplate_html_style,\n\u001b[1;32m    212\u001b[0m     )\n",
      "File \u001b[0;32m~/anaconda3/envs/dev/lib/python3.11/site-packages/pandas/io/formats/style_render.py:163\u001b[0m, in \u001b[0;36mStylerRenderer._render\u001b[0;34m(self, sparse_index, sparse_columns, max_rows, max_cols, blank)\u001b[0m\n\u001b[1;32m    149\u001b[0m \u001b[38;5;28;01mdef\u001b[39;00m \u001b[38;5;21m_render\u001b[39m(\n\u001b[1;32m    150\u001b[0m     \u001b[38;5;28mself\u001b[39m,\n\u001b[1;32m    151\u001b[0m     sparse_index: \u001b[38;5;28mbool\u001b[39m,\n\u001b[0;32m   (...)\u001b[0m\n\u001b[1;32m    155\u001b[0m     blank: \u001b[38;5;28mstr\u001b[39m \u001b[38;5;241m=\u001b[39m \u001b[38;5;124m\"\u001b[39m\u001b[38;5;124m\"\u001b[39m,\n\u001b[1;32m    156\u001b[0m ):\n\u001b[1;32m    157\u001b[0m \u001b[38;5;250m    \u001b[39m\u001b[38;5;124;03m\"\"\"\u001b[39;00m\n\u001b[1;32m    158\u001b[0m \u001b[38;5;124;03m    Computes and applies styles and then generates the general render dicts.\u001b[39;00m\n\u001b[1;32m    159\u001b[0m \n\u001b[1;32m    160\u001b[0m \u001b[38;5;124;03m    Also extends the `ctx` and `ctx_index` attributes with those of concatenated\u001b[39;00m\n\u001b[1;32m    161\u001b[0m \u001b[38;5;124;03m    stylers for use within `_translate_latex`\u001b[39;00m\n\u001b[1;32m    162\u001b[0m \u001b[38;5;124;03m    \"\"\"\u001b[39;00m\n\u001b[0;32m--> 163\u001b[0m     \u001b[38;5;28mself\u001b[39m\u001b[38;5;241m.\u001b[39m_compute()\n\u001b[1;32m    164\u001b[0m     dxs \u001b[38;5;241m=\u001b[39m []\n\u001b[1;32m    165\u001b[0m     ctx_len \u001b[38;5;241m=\u001b[39m \u001b[38;5;28mlen\u001b[39m(\u001b[38;5;28mself\u001b[39m\u001b[38;5;241m.\u001b[39mindex)\n",
      "File \u001b[0;32m~/anaconda3/envs/dev/lib/python3.11/site-packages/pandas/io/formats/style_render.py:258\u001b[0m, in \u001b[0;36mStylerRenderer._compute\u001b[0;34m(self)\u001b[0m\n\u001b[1;32m    256\u001b[0m r \u001b[38;5;241m=\u001b[39m \u001b[38;5;28mself\u001b[39m\n\u001b[1;32m    257\u001b[0m \u001b[38;5;28;01mfor\u001b[39;00m func, args, kwargs \u001b[38;5;129;01min\u001b[39;00m \u001b[38;5;28mself\u001b[39m\u001b[38;5;241m.\u001b[39m_todo:\n\u001b[0;32m--> 258\u001b[0m     r \u001b[38;5;241m=\u001b[39m func(\u001b[38;5;28mself\u001b[39m)(\u001b[38;5;241m*\u001b[39margs, \u001b[38;5;241m*\u001b[39m\u001b[38;5;241m*\u001b[39mkwargs)\n\u001b[1;32m    259\u001b[0m \u001b[38;5;28;01mreturn\u001b[39;00m r\n",
      "File \u001b[0;32m~/anaconda3/envs/dev/lib/python3.11/site-packages/pandas/io/formats/style.py:1738\u001b[0m, in \u001b[0;36mStyler._apply\u001b[0;34m(self, func, axis, subset, **kwargs)\u001b[0m\n\u001b[1;32m   1736\u001b[0m         result \u001b[38;5;241m=\u001b[39m data\u001b[38;5;241m.\u001b[39mapply(func, axis\u001b[38;5;241m=\u001b[39m\u001b[38;5;241m0\u001b[39m, \u001b[38;5;241m*\u001b[39m\u001b[38;5;241m*\u001b[39mkwargs)\n\u001b[1;32m   1737\u001b[0m     \u001b[38;5;28;01melse\u001b[39;00m:\n\u001b[0;32m-> 1738\u001b[0m         result \u001b[38;5;241m=\u001b[39m data\u001b[38;5;241m.\u001b[39mT\u001b[38;5;241m.\u001b[39mapply(func, axis\u001b[38;5;241m=\u001b[39m\u001b[38;5;241m0\u001b[39m, \u001b[38;5;241m*\u001b[39m\u001b[38;5;241m*\u001b[39mkwargs)\u001b[38;5;241m.\u001b[39mT  \u001b[38;5;66;03m# see GH 42005\u001b[39;00m\n\u001b[1;32m   1740\u001b[0m \u001b[38;5;28;01mif\u001b[39;00m \u001b[38;5;28misinstance\u001b[39m(result, Series):\n\u001b[1;32m   1741\u001b[0m     \u001b[38;5;28;01mraise\u001b[39;00m \u001b[38;5;167;01mValueError\u001b[39;00m(\n\u001b[1;32m   1742\u001b[0m         \u001b[38;5;124mf\u001b[39m\u001b[38;5;124m\"\u001b[39m\u001b[38;5;124mFunction \u001b[39m\u001b[38;5;132;01m{\u001b[39;00m\u001b[38;5;28mrepr\u001b[39m(func)\u001b[38;5;132;01m}\u001b[39;00m\u001b[38;5;124m resulted in the apply method collapsing to a \u001b[39m\u001b[38;5;124m\"\u001b[39m\n\u001b[1;32m   1743\u001b[0m         \u001b[38;5;124mf\u001b[39m\u001b[38;5;124m\"\u001b[39m\u001b[38;5;124mSeries.\u001b[39m\u001b[38;5;130;01m\\n\u001b[39;00m\u001b[38;5;124mUsually, this is the result of the function returning a \u001b[39m\u001b[38;5;124m\"\u001b[39m\n\u001b[1;32m   1744\u001b[0m         \u001b[38;5;124mf\u001b[39m\u001b[38;5;124m\"\u001b[39m\u001b[38;5;124msingle value, instead of list-like.\u001b[39m\u001b[38;5;124m\"\u001b[39m\n\u001b[1;32m   1745\u001b[0m     )\n",
      "File \u001b[0;32m~/anaconda3/envs/dev/lib/python3.11/site-packages/pandas/core/frame.py:9568\u001b[0m, in \u001b[0;36mDataFrame.apply\u001b[0;34m(self, func, axis, raw, result_type, args, **kwargs)\u001b[0m\n\u001b[1;32m   9557\u001b[0m \u001b[38;5;28;01mfrom\u001b[39;00m \u001b[38;5;21;01mpandas\u001b[39;00m\u001b[38;5;21;01m.\u001b[39;00m\u001b[38;5;21;01mcore\u001b[39;00m\u001b[38;5;21;01m.\u001b[39;00m\u001b[38;5;21;01mapply\u001b[39;00m \u001b[38;5;28;01mimport\u001b[39;00m frame_apply\n\u001b[1;32m   9559\u001b[0m op \u001b[38;5;241m=\u001b[39m frame_apply(\n\u001b[1;32m   9560\u001b[0m     \u001b[38;5;28mself\u001b[39m,\n\u001b[1;32m   9561\u001b[0m     func\u001b[38;5;241m=\u001b[39mfunc,\n\u001b[0;32m   (...)\u001b[0m\n\u001b[1;32m   9566\u001b[0m     kwargs\u001b[38;5;241m=\u001b[39mkwargs,\n\u001b[1;32m   9567\u001b[0m )\n\u001b[0;32m-> 9568\u001b[0m \u001b[38;5;28;01mreturn\u001b[39;00m op\u001b[38;5;241m.\u001b[39mapply()\u001b[38;5;241m.\u001b[39m__finalize__(\u001b[38;5;28mself\u001b[39m, method\u001b[38;5;241m=\u001b[39m\u001b[38;5;124m\"\u001b[39m\u001b[38;5;124mapply\u001b[39m\u001b[38;5;124m\"\u001b[39m)\n",
      "File \u001b[0;32m~/anaconda3/envs/dev/lib/python3.11/site-packages/pandas/core/apply.py:764\u001b[0m, in \u001b[0;36mFrameApply.apply\u001b[0;34m(self)\u001b[0m\n\u001b[1;32m    761\u001b[0m \u001b[38;5;28;01melif\u001b[39;00m \u001b[38;5;28mself\u001b[39m\u001b[38;5;241m.\u001b[39mraw:\n\u001b[1;32m    762\u001b[0m     \u001b[38;5;28;01mreturn\u001b[39;00m \u001b[38;5;28mself\u001b[39m\u001b[38;5;241m.\u001b[39mapply_raw()\n\u001b[0;32m--> 764\u001b[0m \u001b[38;5;28;01mreturn\u001b[39;00m \u001b[38;5;28mself\u001b[39m\u001b[38;5;241m.\u001b[39mapply_standard()\n",
      "File \u001b[0;32m~/anaconda3/envs/dev/lib/python3.11/site-packages/pandas/core/apply.py:891\u001b[0m, in \u001b[0;36mFrameApply.apply_standard\u001b[0;34m(self)\u001b[0m\n\u001b[1;32m    890\u001b[0m \u001b[38;5;28;01mdef\u001b[39;00m \u001b[38;5;21mapply_standard\u001b[39m(\u001b[38;5;28mself\u001b[39m):\n\u001b[0;32m--> 891\u001b[0m     results, res_index \u001b[38;5;241m=\u001b[39m \u001b[38;5;28mself\u001b[39m\u001b[38;5;241m.\u001b[39mapply_series_generator()\n\u001b[1;32m    893\u001b[0m     \u001b[38;5;66;03m# wrap results\u001b[39;00m\n\u001b[1;32m    894\u001b[0m     \u001b[38;5;28;01mreturn\u001b[39;00m \u001b[38;5;28mself\u001b[39m\u001b[38;5;241m.\u001b[39mwrap_results(results, res_index)\n",
      "File \u001b[0;32m~/anaconda3/envs/dev/lib/python3.11/site-packages/pandas/core/apply.py:907\u001b[0m, in \u001b[0;36mFrameApply.apply_series_generator\u001b[0;34m(self)\u001b[0m\n\u001b[1;32m    904\u001b[0m \u001b[38;5;28;01mwith\u001b[39;00m option_context(\u001b[38;5;124m\"\u001b[39m\u001b[38;5;124mmode.chained_assignment\u001b[39m\u001b[38;5;124m\"\u001b[39m, \u001b[38;5;28;01mNone\u001b[39;00m):\n\u001b[1;32m    905\u001b[0m     \u001b[38;5;28;01mfor\u001b[39;00m i, v \u001b[38;5;129;01min\u001b[39;00m \u001b[38;5;28menumerate\u001b[39m(series_gen):\n\u001b[1;32m    906\u001b[0m         \u001b[38;5;66;03m# ignore SettingWithCopy here in case the user mutates\u001b[39;00m\n\u001b[0;32m--> 907\u001b[0m         results[i] \u001b[38;5;241m=\u001b[39m \u001b[38;5;28mself\u001b[39m\u001b[38;5;241m.\u001b[39mf(v)\n\u001b[1;32m    908\u001b[0m         \u001b[38;5;28;01mif\u001b[39;00m \u001b[38;5;28misinstance\u001b[39m(results[i], ABCSeries):\n\u001b[1;32m    909\u001b[0m             \u001b[38;5;66;03m# If we have a view on v, we need to make a copy because\u001b[39;00m\n\u001b[1;32m    910\u001b[0m             \u001b[38;5;66;03m#  series_generator will swap out the underlying data\u001b[39;00m\n\u001b[1;32m    911\u001b[0m             results[i] \u001b[38;5;241m=\u001b[39m results[i]\u001b[38;5;241m.\u001b[39mcopy(deep\u001b[38;5;241m=\u001b[39m\u001b[38;5;28;01mFalse\u001b[39;00m)\n",
      "Cell \u001b[0;32mIn[6], line 39\u001b[0m, in \u001b[0;36mhighlight_max\u001b[0;34m(s)\u001b[0m\n\u001b[1;32m     38\u001b[0m \u001b[38;5;28;01mdef\u001b[39;00m \u001b[38;5;21mhighlight_max\u001b[39m(s):\n\u001b[0;32m---> 39\u001b[0m     is_max \u001b[38;5;241m=\u001b[39m s \u001b[38;5;241m==\u001b[39m s\u001b[38;5;241m.\u001b[39mmax()\n\u001b[1;32m     40\u001b[0m     \u001b[38;5;28;01mreturn\u001b[39;00m [\u001b[38;5;124m'\u001b[39m\u001b[38;5;124mbackground-color: yellow\u001b[39m\u001b[38;5;124m'\u001b[39m \u001b[38;5;28;01mif\u001b[39;00m v \u001b[38;5;28;01melse\u001b[39;00m \u001b[38;5;124m'\u001b[39m\u001b[38;5;124m'\u001b[39m \u001b[38;5;28;01mfor\u001b[39;00m v \u001b[38;5;129;01min\u001b[39;00m is_max]\n",
      "File \u001b[0;32m~/anaconda3/envs/dev/lib/python3.11/site-packages/pandas/core/generic.py:11941\u001b[0m, in \u001b[0;36mNDFrame._add_numeric_operations.<locals>.max\u001b[0;34m(self, axis, skipna, level, numeric_only, **kwargs)\u001b[0m\n\u001b[1;32m  11921\u001b[0m \u001b[38;5;129m@doc\u001b[39m(\n\u001b[1;32m  11922\u001b[0m     _num_doc,\n\u001b[1;32m  11923\u001b[0m     desc\u001b[38;5;241m=\u001b[39m\u001b[38;5;124m\"\u001b[39m\u001b[38;5;124mReturn the maximum of the values over the requested axis.\u001b[39m\u001b[38;5;130;01m\\n\u001b[39;00m\u001b[38;5;130;01m\\n\u001b[39;00m\u001b[38;5;124m\"\u001b[39m\n\u001b[0;32m   (...)\u001b[0m\n\u001b[1;32m  11939\u001b[0m     \u001b[38;5;241m*\u001b[39m\u001b[38;5;241m*\u001b[39mkwargs,\n\u001b[1;32m  11940\u001b[0m ):\n\u001b[0;32m> 11941\u001b[0m     \u001b[38;5;28;01mreturn\u001b[39;00m NDFrame\u001b[38;5;241m.\u001b[39mmax(\u001b[38;5;28mself\u001b[39m, axis, skipna, level, numeric_only, \u001b[38;5;241m*\u001b[39m\u001b[38;5;241m*\u001b[39mkwargs)\n",
      "File \u001b[0;32m~/anaconda3/envs/dev/lib/python3.11/site-packages/pandas/core/generic.py:11383\u001b[0m, in \u001b[0;36mNDFrame.max\u001b[0;34m(self, axis, skipna, level, numeric_only, **kwargs)\u001b[0m\n\u001b[1;32m  11375\u001b[0m \u001b[38;5;28;01mdef\u001b[39;00m \u001b[38;5;21mmax\u001b[39m(\n\u001b[1;32m  11376\u001b[0m     \u001b[38;5;28mself\u001b[39m,\n\u001b[1;32m  11377\u001b[0m     axis: Axis \u001b[38;5;241m|\u001b[39m \u001b[38;5;28;01mNone\u001b[39;00m \u001b[38;5;241m|\u001b[39m lib\u001b[38;5;241m.\u001b[39mNoDefault \u001b[38;5;241m=\u001b[39m lib\u001b[38;5;241m.\u001b[39mno_default,\n\u001b[0;32m   (...)\u001b[0m\n\u001b[1;32m  11381\u001b[0m     \u001b[38;5;241m*\u001b[39m\u001b[38;5;241m*\u001b[39mkwargs,\n\u001b[1;32m  11382\u001b[0m ):\n\u001b[0;32m> 11383\u001b[0m     \u001b[38;5;28;01mreturn\u001b[39;00m \u001b[38;5;28mself\u001b[39m\u001b[38;5;241m.\u001b[39m_stat_function(\n\u001b[1;32m  11384\u001b[0m         \u001b[38;5;124m\"\u001b[39m\u001b[38;5;124mmax\u001b[39m\u001b[38;5;124m\"\u001b[39m,\n\u001b[1;32m  11385\u001b[0m         nanops\u001b[38;5;241m.\u001b[39mnanmax,\n\u001b[1;32m  11386\u001b[0m         axis,\n\u001b[1;32m  11387\u001b[0m         skipna,\n\u001b[1;32m  11388\u001b[0m         level,\n\u001b[1;32m  11389\u001b[0m         numeric_only,\n\u001b[1;32m  11390\u001b[0m         \u001b[38;5;241m*\u001b[39m\u001b[38;5;241m*\u001b[39mkwargs,\n\u001b[1;32m  11391\u001b[0m     )\n",
      "File \u001b[0;32m~/anaconda3/envs/dev/lib/python3.11/site-packages/pandas/core/generic.py:11353\u001b[0m, in \u001b[0;36mNDFrame._stat_function\u001b[0;34m(self, name, func, axis, skipna, level, numeric_only, **kwargs)\u001b[0m\n\u001b[1;32m  11343\u001b[0m     warnings\u001b[38;5;241m.\u001b[39mwarn(\n\u001b[1;32m  11344\u001b[0m         \u001b[38;5;124m\"\u001b[39m\u001b[38;5;124mUsing the level keyword in DataFrame and Series aggregations is \u001b[39m\u001b[38;5;124m\"\u001b[39m\n\u001b[1;32m  11345\u001b[0m         \u001b[38;5;124m\"\u001b[39m\u001b[38;5;124mdeprecated and will be removed in a future version. Use groupby \u001b[39m\u001b[38;5;124m\"\u001b[39m\n\u001b[0;32m   (...)\u001b[0m\n\u001b[1;32m  11348\u001b[0m         stacklevel\u001b[38;5;241m=\u001b[39mfind_stack_level(),\n\u001b[1;32m  11349\u001b[0m     )\n\u001b[1;32m  11350\u001b[0m     \u001b[38;5;28;01mreturn\u001b[39;00m \u001b[38;5;28mself\u001b[39m\u001b[38;5;241m.\u001b[39m_agg_by_level(\n\u001b[1;32m  11351\u001b[0m         name, axis\u001b[38;5;241m=\u001b[39maxis, level\u001b[38;5;241m=\u001b[39mlevel, skipna\u001b[38;5;241m=\u001b[39mskipna, numeric_only\u001b[38;5;241m=\u001b[39mnumeric_only\n\u001b[1;32m  11352\u001b[0m     )\n\u001b[0;32m> 11353\u001b[0m \u001b[38;5;28;01mreturn\u001b[39;00m \u001b[38;5;28mself\u001b[39m\u001b[38;5;241m.\u001b[39m_reduce(\n\u001b[1;32m  11354\u001b[0m     func, name\u001b[38;5;241m=\u001b[39mname, axis\u001b[38;5;241m=\u001b[39maxis, skipna\u001b[38;5;241m=\u001b[39mskipna, numeric_only\u001b[38;5;241m=\u001b[39mnumeric_only\n\u001b[1;32m  11355\u001b[0m )\n",
      "File \u001b[0;32m~/anaconda3/envs/dev/lib/python3.11/site-packages/pandas/core/series.py:4816\u001b[0m, in \u001b[0;36mSeries._reduce\u001b[0;34m(self, op, name, axis, skipna, numeric_only, filter_type, **kwds)\u001b[0m\n\u001b[1;32m   4812\u001b[0m     \u001b[38;5;28;01mraise\u001b[39;00m \u001b[38;5;167;01mNotImplementedError\u001b[39;00m(\n\u001b[1;32m   4813\u001b[0m         \u001b[38;5;124mf\u001b[39m\u001b[38;5;124m\"\u001b[39m\u001b[38;5;124mSeries.\u001b[39m\u001b[38;5;132;01m{\u001b[39;00mname\u001b[38;5;132;01m}\u001b[39;00m\u001b[38;5;124m does not implement \u001b[39m\u001b[38;5;132;01m{\u001b[39;00mkwd_name\u001b[38;5;132;01m}\u001b[39;00m\u001b[38;5;124m.\u001b[39m\u001b[38;5;124m\"\u001b[39m\n\u001b[1;32m   4814\u001b[0m     )\n\u001b[1;32m   4815\u001b[0m \u001b[38;5;28;01mwith\u001b[39;00m np\u001b[38;5;241m.\u001b[39merrstate(\u001b[38;5;28mall\u001b[39m\u001b[38;5;241m=\u001b[39m\u001b[38;5;124m\"\u001b[39m\u001b[38;5;124mignore\u001b[39m\u001b[38;5;124m\"\u001b[39m):\n\u001b[0;32m-> 4816\u001b[0m     \u001b[38;5;28;01mreturn\u001b[39;00m op(delegate, skipna\u001b[38;5;241m=\u001b[39mskipna, \u001b[38;5;241m*\u001b[39m\u001b[38;5;241m*\u001b[39mkwds)\n",
      "File \u001b[0;32m~/anaconda3/envs/dev/lib/python3.11/site-packages/pandas/core/nanops.py:155\u001b[0m, in \u001b[0;36mbottleneck_switch.__call__.<locals>.f\u001b[0;34m(values, axis, skipna, **kwds)\u001b[0m\n\u001b[1;32m    153\u001b[0m         result \u001b[38;5;241m=\u001b[39m alt(values, axis\u001b[38;5;241m=\u001b[39maxis, skipna\u001b[38;5;241m=\u001b[39mskipna, \u001b[38;5;241m*\u001b[39m\u001b[38;5;241m*\u001b[39mkwds)\n\u001b[1;32m    154\u001b[0m \u001b[38;5;28;01melse\u001b[39;00m:\n\u001b[0;32m--> 155\u001b[0m     result \u001b[38;5;241m=\u001b[39m alt(values, axis\u001b[38;5;241m=\u001b[39maxis, skipna\u001b[38;5;241m=\u001b[39mskipna, \u001b[38;5;241m*\u001b[39m\u001b[38;5;241m*\u001b[39mkwds)\n\u001b[1;32m    157\u001b[0m \u001b[38;5;28;01mreturn\u001b[39;00m result\n",
      "File \u001b[0;32m~/anaconda3/envs/dev/lib/python3.11/site-packages/pandas/core/nanops.py:418\u001b[0m, in \u001b[0;36m_datetimelike_compat.<locals>.new_func\u001b[0;34m(values, axis, skipna, mask, **kwargs)\u001b[0m\n\u001b[1;32m    415\u001b[0m \u001b[38;5;28;01mif\u001b[39;00m datetimelike \u001b[38;5;129;01mand\u001b[39;00m mask \u001b[38;5;129;01mis\u001b[39;00m \u001b[38;5;28;01mNone\u001b[39;00m:\n\u001b[1;32m    416\u001b[0m     mask \u001b[38;5;241m=\u001b[39m isna(values)\n\u001b[0;32m--> 418\u001b[0m result \u001b[38;5;241m=\u001b[39m func(values, axis\u001b[38;5;241m=\u001b[39maxis, skipna\u001b[38;5;241m=\u001b[39mskipna, mask\u001b[38;5;241m=\u001b[39mmask, \u001b[38;5;241m*\u001b[39m\u001b[38;5;241m*\u001b[39mkwargs)\n\u001b[1;32m    420\u001b[0m \u001b[38;5;28;01mif\u001b[39;00m datetimelike:\n\u001b[1;32m    421\u001b[0m     result \u001b[38;5;241m=\u001b[39m _wrap_results(result, orig_values\u001b[38;5;241m.\u001b[39mdtype, fill_value\u001b[38;5;241m=\u001b[39miNaT)\n",
      "File \u001b[0;32m~/anaconda3/envs/dev/lib/python3.11/site-packages/pandas/core/nanops.py:1051\u001b[0m, in \u001b[0;36m_nanminmax.<locals>.reduction\u001b[0;34m(values, axis, skipna, mask)\u001b[0m\n\u001b[1;32m   1049\u001b[0m         result \u001b[38;5;241m=\u001b[39m np\u001b[38;5;241m.\u001b[39mnan\n\u001b[1;32m   1050\u001b[0m \u001b[38;5;28;01melse\u001b[39;00m:\n\u001b[0;32m-> 1051\u001b[0m     result \u001b[38;5;241m=\u001b[39m \u001b[38;5;28mgetattr\u001b[39m(values, meth)(axis)\n\u001b[1;32m   1053\u001b[0m result \u001b[38;5;241m=\u001b[39m _maybe_null_out(result, axis, mask, values\u001b[38;5;241m.\u001b[39mshape)\n\u001b[1;32m   1054\u001b[0m \u001b[38;5;28;01mreturn\u001b[39;00m result\n",
      "File \u001b[0;32m~/anaconda3/envs/dev/lib/python3.11/site-packages/numpy/core/_methods.py:41\u001b[0m, in \u001b[0;36m_amax\u001b[0;34m(a, axis, out, keepdims, initial, where)\u001b[0m\n\u001b[1;32m     39\u001b[0m \u001b[38;5;28;01mdef\u001b[39;00m \u001b[38;5;21m_amax\u001b[39m(a, axis\u001b[38;5;241m=\u001b[39m\u001b[38;5;28;01mNone\u001b[39;00m, out\u001b[38;5;241m=\u001b[39m\u001b[38;5;28;01mNone\u001b[39;00m, keepdims\u001b[38;5;241m=\u001b[39m\u001b[38;5;28;01mFalse\u001b[39;00m,\n\u001b[1;32m     40\u001b[0m           initial\u001b[38;5;241m=\u001b[39m_NoValue, where\u001b[38;5;241m=\u001b[39m\u001b[38;5;28;01mTrue\u001b[39;00m):\n\u001b[0;32m---> 41\u001b[0m     \u001b[38;5;28;01mreturn\u001b[39;00m umr_maximum(a, axis, \u001b[38;5;28;01mNone\u001b[39;00m, out, keepdims, initial, where)\n",
      "\u001b[0;31mTypeError\u001b[0m: '>=' not supported between instances of 'str' and 'float'"
     ]
    },
    {
     "data": {
      "text/plain": [
       "<pandas.io.formats.style.Styler at 0x13ad08550>"
      ]
     },
     "metadata": {},
     "output_type": "display_data"
    }
   ],
   "source": [
    "# Function to create a comparison table for given fdc_ids\n",
    "def create_comparison_table(fdc_ids):\n",
    "    # Filter the merged_nutrient_food_nutrient DataFrame to only include the specified fdc_ids\n",
    "    filtered_nutrients = merged_nutrient_food_nutrient[merged_nutrient_food_nutrient['fdc_id'].isin(fdc_ids)]\n",
    "    \n",
    "    # Convert non-numeric values to zero\n",
    "    filtered_nutrients['amount'] = pd.to_numeric(filtered_nutrients['amount'], errors='coerce').fillna(0)\n",
    "    \n",
    "    # Pivot the DataFrame to get a comparison table\n",
    "    comparison_df = pd.pivot_table(filtered_nutrients, values='amount', index=['name'], columns=['fdc_id'])\n",
    "    \n",
    "    # Reset the index for better formatting\n",
    "    comparison_df.reset_index(inplace=True)\n",
    "    \n",
    "    # Apply conditional formatting to highlight the maximum value in each row\n",
    "    styled_df = comparison_df.style.apply(highlight_max, axis=1)\n",
    "    \n",
    "    return styled_df\n",
    "\n",
    "\n",
    "# Function to create a comparison table for given fdc_ids\n",
    "def create_comparison_table(fdc_ids):\n",
    "    # Filter the merged_nutrient_food_nutrient DataFrame to only include the specified fdc_ids\n",
    "    filtered_nutrients = merged_nutrient_food_nutrient[merged_nutrient_food_nutrient['fdc_id'].isin(fdc_ids)]\n",
    "    \n",
    "    # Pivot the DataFrame to get a comparison table\n",
    "    comparison_df = pd.pivot_table(filtered_nutrients, values='amount', index=['name'], columns=['fdc_id'])\n",
    "    \n",
    "    # Reset the index for better formatting\n",
    "    comparison_df.reset_index(inplace=True)\n",
    "    \n",
    "    # Apply conditional formatting to highlight the maximum value in each row\n",
    "    styled_df = comparison_df.style.apply(highlight_max, axis=1)\n",
    "    \n",
    "    return styled_df\n",
    "\n",
    "# Function to highlight the maximum value in each row\n",
    "def highlight_max(s):\n",
    "    is_max = s == s.max()\n",
    "    return ['background-color: yellow' if v else '' for v in is_max]\n",
    "\n",
    "# List of fdc_ids you want to compare (replace these with the actual fdc_ids)\n",
    "fdc_ids_to_compare = [168428, 168427]  # Replace XXXX and YYYY with the actual FDC IDs\n",
    "\n",
    "# Create the comparison table\n",
    "styled_comparison_table = create_comparison_table(fdc_ids_to_compare)\n",
    "\n",
    "# Display the styled DataFrame\n",
    "display(styled_comparison_table)\n"
   ]
  },
  {
   "cell_type": "code",
   "execution_count": null,
   "id": "ca54edb9-e520-41c5-b528-9bc7b6aff8b0",
   "metadata": {},
   "outputs": [],
   "source": []
  }
 ],
 "metadata": {
  "kernelspec": {
   "display_name": "Python 3 (ipykernel)",
   "language": "python",
   "name": "python3"
  },
  "language_info": {
   "codemirror_mode": {
    "name": "ipython",
    "version": 3
   },
   "file_extension": ".py",
   "mimetype": "text/x-python",
   "name": "python",
   "nbconvert_exporter": "python",
   "pygments_lexer": "ipython3",
   "version": "3.11.4"
  }
 },
 "nbformat": 4,
 "nbformat_minor": 5
}
