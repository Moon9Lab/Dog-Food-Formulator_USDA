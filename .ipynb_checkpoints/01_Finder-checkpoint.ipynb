{
 "cells": [
  {
   "cell_type": "code",
   "execution_count": 1,
   "id": "07f0c218-bee6-41e1-9f81-188b97a8fbd0",
   "metadata": {
    "collapsed": true,
    "jupyter": {
     "outputs_hidden": true
    },
    "tags": []
   },
   "outputs": [
    {
     "name": "stdout",
     "output_type": "stream",
     "text": [
      "Merged food_category and food:\n",
      "   id  code     description_x  fdc_id       data_type  \\\n",
      "0   2   200  Spices and Herbs  170917  sr_legacy_food   \n",
      "1   2   200  Spices and Herbs  170918  sr_legacy_food   \n",
      "2   2   200  Spices and Herbs  170919  sr_legacy_food   \n",
      "3   2   200  Spices and Herbs  170920  sr_legacy_food   \n",
      "4   2   200  Spices and Herbs  170921  sr_legacy_food   \n",
      "\n",
      "                   description_y  food_category_id publication_date  \n",
      "0               Spices, bay leaf                 2       2019-04-01  \n",
      "1           Spices, caraway seed                 2       2019-04-01  \n",
      "2               Spices, cardamom                 2       2019-04-01  \n",
      "3            Spices, celery seed                 2       2019-04-01  \n",
      "4  Spices, coriander leaf, dried                 2       2019-04-01  \n",
      "\n",
      "Merged food and food_nutrient:\n",
      "   fdc_id       data_type                                        description  \\\n",
      "0  167512  sr_legacy_food  Pillsbury Golden Layer Buttermilk Biscuits, Ar...   \n",
      "1  167512  sr_legacy_food  Pillsbury Golden Layer Buttermilk Biscuits, Ar...   \n",
      "2  167512  sr_legacy_food  Pillsbury Golden Layer Buttermilk Biscuits, Ar...   \n",
      "3  167512  sr_legacy_food  Pillsbury Golden Layer Buttermilk Biscuits, Ar...   \n",
      "4  167512  sr_legacy_food  Pillsbury Golden Layer Buttermilk Biscuits, Ar...   \n",
      "\n",
      "   food_category_id publication_date       id  nutrient_id   amount  \\\n",
      "0                18       2019-04-01  1283674         1003     5.88   \n",
      "1                18       2019-04-01  1283675         1007     3.50   \n",
      "2                18       2019-04-01  1283676         1062  1286.00   \n",
      "3                18       2019-04-01  1283677         1079     1.20   \n",
      "4                18       2019-04-01  1283678         1089     2.12   \n",
      "\n",
      "   data_points  derivation_id  min  max  median footnote  min_year_acquired  \n",
      "0            1           46.0  NaN  NaN     NaN      NaN                NaN  \n",
      "1            1           46.0  NaN  NaN     NaN      NaN                NaN  \n",
      "2            0           49.0  NaN  NaN     NaN      NaN                NaN  \n",
      "3            1           46.0  NaN  NaN     NaN      NaN                NaN  \n",
      "4            1           46.0  NaN  NaN     NaN      NaN                NaN  \n",
      "\n",
      "Merged nutrient and food_nutrient:\n",
      "   id_x     name unit_name  nutrient_nbr   rank     id_y  fdc_id  nutrient_id  \\\n",
      "0  1003  Protein         G         203.0  600.0  1283674  167512         1003   \n",
      "1  1003  Protein         G         203.0  600.0  1283688  167513         1003   \n",
      "2  1003  Protein         G         203.0  600.0  1283712  167514         1003   \n",
      "3  1003  Protein         G         203.0  600.0  1283725  167515         1003   \n",
      "4  1003  Protein         G         203.0  600.0  1283760  167516         1003   \n",
      "\n",
      "   amount  data_points  derivation_id   min   max  median footnote  \\\n",
      "0    5.88            1           46.0   NaN   NaN     NaN      NaN   \n",
      "1    4.34            1           47.0   NaN   NaN     NaN      NaN   \n",
      "2    6.10            1            1.0   NaN   NaN     NaN      NaN   \n",
      "3    8.00            1           47.0   NaN   NaN     NaN      NaN   \n",
      "4    6.58            2            1.0  6.44  6.72     NaN      NaN   \n",
      "\n",
      "   min_year_acquired  \n",
      "0                NaN  \n",
      "1                NaN  \n",
      "2                NaN  \n",
      "3                NaN  \n",
      "4                NaN  \n"
     ]
    }
   ],
   "source": [
    "# Import necessary libraries\n",
    "import pandas as pd\n",
    "import matplotlib.pyplot as plt\n",
    "import ipywidgets as widgets\n",
    "from IPython.display import display\n",
    "\n",
    "# Load CSV files into DataFrames\n",
    "food_category_df = pd.read_csv('Data/food_category.csv')\n",
    "food_df = pd.read_csv('Data/food.csv')\n",
    "food_nutrient_df = pd.read_csv('Data/food_nutrient.csv')\n",
    "nutrient_df = pd.read_csv('Data/nutrient.csv')\n",
    "\n",
    "# Define the food categories you are interested in\n",
    "specified_categories = [\"Vegetables and Vegetable Products\", \n",
    "                        \"Legumes and Legume Products\", \n",
    "                        \"Spices and Herbs\", \n",
    "                        \"Cereal Grains and Pasta\"]\n",
    "\n",
    "# Filter the food_category DataFrame to include only the specified categories\n",
    "filtered_food_category_df = food_category_df[food_category_df['description'].isin(specified_categories)]\n",
    "\n",
    "# Merge DataFrames based on common keys\n",
    "# Merge food_category and food on 'id' and 'food_category_id'\n",
    "merged_food_category_food = pd.merge(filtered_food_category_df, food_df, left_on='id', right_on='food_category_id')\n",
    "\n",
    "# Merge food and food_nutrient on 'fdc_id'\n",
    "merged_food_nutrient = pd.merge(food_df, food_nutrient_df, on='fdc_id')\n",
    "\n",
    "# Merge nutrient and food_nutrient on 'id' and 'nutrient_id'\n",
    "merged_nutrient_food_nutrient = pd.merge(nutrient_df, food_nutrient_df, left_on='id', right_on='nutrient_id')\n",
    "\n",
    "# Display first few rows of each merged DataFrame for verification\n",
    "print(\"Merged food_category and food:\")\n",
    "print(merged_food_category_food.head())\n",
    "print(\"\\nMerged food and food_nutrient:\")\n",
    "print(merged_food_nutrient.head())\n",
    "print(\"\\nMerged nutrient and food_nutrient:\")\n",
    "print(merged_nutrient_food_nutrient.head())\n"
   ]
  },
  {
   "cell_type": "code",
   "execution_count": 2,
   "id": "55fd8aa2-9a02-4317-b57e-c27e066b4d1e",
   "metadata": {
    "collapsed": true,
    "jupyter": {
     "outputs_hidden": true
    },
    "tags": []
   },
   "outputs": [
    {
     "name": "stdout",
     "output_type": "stream",
     "text": [
      "      fdc_id                                        description  amount\n",
      "0     167523  Pie crust, deep dish, frozen, unbaked, made wi...   0.115\n",
      "1     167525                               Tostada shells, corn   0.124\n",
      "2     167526  Bread, salvadoran sweet cheese (quesadilla sal...   0.489\n",
      "3     167527    Bread, pound cake type, pan de torta salvadoran   1.158\n",
      "4     167528       Pastry, Pastelitos de Guava (guava pastries)   0.163\n",
      "...      ...                                                ...     ...\n",
      "1917  175245  Beans, kidney, red, mature seeds, canned, soli...   0.040\n",
      "1918  175260  Lamb, New Zealand, imported, rack - partly fre...   0.113\n",
      "1919  175261  Lamb, New Zealand, imported, rack - partly fre...   0.133\n",
      "1920  175262  Lamb, New Zealand, imported, square-cut should...   0.256\n",
      "1921  175264  Lamb, New Zealand, imported, square-cut should...   0.140\n",
      "\n",
      "[1922 rows x 3 columns]\n"
     ]
    }
   ],
   "source": [
    "# Step 1: Find the nutrient ID for \"PUFA 18:3 n-3 c,c,c (ALA)\"\n",
    "nutrient_id = nutrient_df[nutrient_df['name'] == 'PUFA 18:3 n-3 c,c,c (ALA)']['id'].values\n",
    "if len(nutrient_id) > 0:\n",
    "    nutrient_id = nutrient_id[0]\n",
    "else:\n",
    "    nutrient_id = None\n",
    "\n",
    "# Step 2: Filter the food_nutrient DataFrame for records where the nutrient value is greater than 0\n",
    "filtered_food_nutrient_df = food_nutrient_df[(food_nutrient_df['nutrient_id'] == nutrient_id) & (food_nutrient_df['amount'] > 0)]\n",
    "\n",
    "# Step 3: Merge the filtered food_nutrient DataFrame with the food DataFrame\n",
    "result_df = pd.merge(filtered_food_nutrient_df, food_df, on='fdc_id')[['fdc_id', 'description', 'amount']]\n",
    "\n",
    "# Display the result\n",
    "print(result_df)\n"
   ]
  },
  {
   "cell_type": "code",
   "execution_count": 3,
   "id": "a9d0585a-ef7c-4d89-ba91-d8b0b688563f",
   "metadata": {
    "tags": []
   },
   "outputs": [
    {
     "data": {
      "application/vnd.jupyter.widget-view+json": {
       "model_id": "6b1e1b1ee49a4f929bdfcbf73264d422",
       "version_major": 2,
       "version_minor": 0
      },
      "text/plain": [
       "interactive(children=(FloatSlider(value=0.0, continuous_update=False, description='Amount:', max=53.368, step=…"
      ]
     },
     "execution_count": 3,
     "metadata": {},
     "output_type": "execute_result"
    }
   ],
   "source": [
    "# load DataFrames and create the result_df goes here\n",
    "# Interactive widgets\n",
    "amount_slider = widgets.FloatSlider(\n",
    "    value=0,\n",
    "    min=0,\n",
    "    max=result_df['amount'].max(),\n",
    "    step=0.01,\n",
    "    description='Amount:',\n",
    "    continuous_update=False\n",
    ")\n",
    "\n",
    "# Function to update plot\n",
    "def update_plot(amount):\n",
    "    filtered_df = result_df[result_df['amount'] > amount]\n",
    "    plt.figure(figsize=(10, 6))\n",
    "    plt.barh(filtered_df['description'][:10], filtered_df['amount'][:10])\n",
    "    plt.xlabel('Amount')\n",
    "    plt.ylabel('Food Description')\n",
    "    plt.title('Top 10 Foods based on PUFA 18:3 n-3 c,c,c (ALA)')\n",
    "    plt.show()\n",
    "\n",
    "# Interactive display\n",
    "widgets.interactive(update_plot, amount=amount_slider)\n"
   ]
  },
  {
   "cell_type": "code",
   "execution_count": null,
   "id": "f9c18e42-63ff-4665-a5b6-65cb9325845d",
   "metadata": {},
   "outputs": [],
   "source": []
  }
 ],
 "metadata": {
  "kernelspec": {
   "display_name": "Python 3 (ipykernel)",
   "language": "python",
   "name": "python3"
  },
  "language_info": {
   "codemirror_mode": {
    "name": "ipython",
    "version": 3
   },
   "file_extension": ".py",
   "mimetype": "text/x-python",
   "name": "python",
   "nbconvert_exporter": "python",
   "pygments_lexer": "ipython3",
   "version": "3.11.4"
  }
 },
 "nbformat": 4,
 "nbformat_minor": 5
}
