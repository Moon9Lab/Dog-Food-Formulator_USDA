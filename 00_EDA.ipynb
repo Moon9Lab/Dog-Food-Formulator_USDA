{
 "cells": [
  {
   "cell_type": "code",
   "execution_count": 15,
   "id": "74fdd6fc-dca9-4d6c-81ed-dda80a763f8a",
   "metadata": {
    "tags": []
   },
   "outputs": [
    {
     "name": "stdout",
     "output_type": "stream",
     "text": [
      "Count of files for each type:\n",
      ".csv: 18\n",
      ": 1\n",
      ".xlsx: 1\n"
     ]
    }
   ],
   "source": [
    "import os\n",
    "import pandas as pd\n",
    "from collections import Counter\n",
    "from collections import defaultdict\n",
    "\n",
    "# Define the directory where the files are located\n",
    "data_dir = \"data\"\n",
    "\n",
    "# List all files in the directory\n",
    "all_files = os.listdir(data_dir)\n",
    "\n",
    "# Get file extensions and count them\n",
    "file_extensions = [os.path.splitext(f)[1] for f in all_files]\n",
    "file_count = Counter(file_extensions)\n",
    "\n",
    "# Display count of files for each type\n",
    "print(\"Count of files for each type:\")\n",
    "for ext, count in file_count.items():\n",
    "    print(f\"{ext}: {count}\")\n"
   ]
  },
  {
   "cell_type": "code",
   "execution_count": 16,
   "id": "124be715-eade-4d61-8974-13ad124cc30f",
   "metadata": {
    "tags": []
   },
   "outputs": [
    {
     "name": "stdout",
     "output_type": "stream",
     "text": [
      "The most common key without duplicates is 'id' and it appears in 13 files.\n"
     ]
    }
   ],
   "source": [
    "# Filter out only the CSV files\n",
    "csv_files = [f for f in all_files if f.endswith('.csv')]\n",
    "\n",
    "# Initialize a dictionary to store column sets for each file\n",
    "column_dict = {}\n",
    "\n",
    "# Loop through each CSV file to collect its columns\n",
    "for csv_file in csv_files:\n",
    "    file_path = os.path.join(data_dir, csv_file)\n",
    "    df = pd.read_csv(file_path)\n",
    "    column_dict[csv_file] = set(df.columns)\n",
    "\n",
    "# Initialize a dictionary to store common keys between files\n",
    "common_key_dict = {}\n",
    "\n",
    "# Loop through each CSV file to find common keys with other files\n",
    "for csv_file in csv_files:\n",
    "    common_key_dict[csv_file] = {}\n",
    "    for other_file, other_columns in column_dict.items():\n",
    "        if csv_file != other_file:\n",
    "            common_keys = column_dict[csv_file].intersection(other_columns)\n",
    "            if common_keys:\n",
    "                common_key_dict[csv_file][other_file] = list(common_keys)\n",
    "\n",
    "# Initialize a dictionary to keep track of files where each key appears\n",
    "key_file_dict = defaultdict(set)\n",
    "\n",
    "# Loop through the common_key_dict to identify the files where each key appears\n",
    "for file, relations in common_key_dict.items():\n",
    "    for other_file, common_keys in relations.items():\n",
    "        for key in common_keys:\n",
    "            key_file_dict[key].add(file)\n",
    "            key_file_dict[key].add(other_file)\n",
    "\n",
    "# Find keys that appear in more files than expected\n",
    "for key, files in key_file_dict.items():\n",
    "    if len(files) > 17:  # Replace 17 with the actual number of CSV files if different\n",
    "        print(f\"The key '{key}' appears in more than 17 files: {files}\")\n",
    "\n",
    "# To find the most common key without duplicates\n",
    "most_common_key = max(key_file_dict, key=lambda k: len(key_file_dict[k]))\n",
    "\n",
    "print(f\"The most common key without duplicates is '{most_common_key}' and it appears in {len(key_file_dict[most_common_key])} files.\")\n"
   ]
  },
  {
   "cell_type": "code",
   "execution_count": 17,
   "id": "4820caee-3357-4bf7-974b-6ed0773b45db",
   "metadata": {
    "tags": []
   },
   "outputs": [
    {
     "data": {
      "application/vnd.plotly.v1+json": {
       "config": {
        "plotlyServerURL": "https://plot.ly"
       },
       "data": [
        {
         "hoverinfo": "text",
         "line": {
          "color": "#888",
          "width": 0.5
         },
         "mode": "lines",
         "text": [
          "food_nutrient_conversion_factor_id",
          "value",
          "id",
          "id",
          "id, description",
          "id",
          "id, code, description",
          "id, description",
          "id",
          "id",
          "description",
          "id",
          "id, code, description",
          "id",
          "id, code, description",
          "fdc_id",
          "id, fdc_id",
          "id",
          "id, fdc_id",
          "id",
          "id",
          "id",
          "id",
          "fdc_id",
          "amount, nutrient_id, min_year_acquired, footnote, median, fdc_id, max, derivation_id, min, id, data_points",
          "id",
          "amount, min_year_acquired, footnote, fdc_id, id, data_points",
          "id",
          "fdc_id",
          "id",
          "id, fdc_id",
          "id",
          "id",
          "id",
          "id",
          "fdc_id",
          "id, fdc_id",
          "id",
          "id, fdc_id",
          "id",
          "id, name",
          "id, description",
          "id, description",
          "id, name",
          "id, name",
          "description",
          "id",
          "id, description",
          "id",
          "id, description",
          "fdc_id",
          "id",
          "id",
          "id, name",
          "id, name",
          "fdc_id",
          "id, fdc_id",
          "id",
          "id, seq_num, fdc_id",
          "id",
          "id, description",
          "id",
          "id",
          "description",
          "id",
          "id, code, description",
          "id",
          "id, code, description",
          "id",
          "id",
          "description",
          "id",
          "id, description",
          "id",
          "id, description",
          "id, name",
          "id",
          "id",
          "id",
          "id",
          "id",
          "id",
          "id",
          "id",
          "fdc_id",
          "fdc_id",
          "description",
          "fdc_id",
          "description",
          "fdc_id",
          "id",
          "amount, min_year_acquired, footnote, fdc_id, id, data_points",
          "id",
          "id",
          "id, code, description",
          "fdc_id",
          "id"
         ],
         "type": "scatter",
         "x": [
          1,
          0.6290522270365594,
          null,
          0.6290522270365594,
          0.07337903340659907,
          null,
          -0.19882031870501535,
          -0.11118968718019175,
          null,
          -0.19882031870501535,
          -0.02223371692046131,
          null,
          -0.19882031870501535,
          -0.08095273562398296,
          null,
          -0.19882031870501535,
          0.07337903340659907,
          null,
          -0.19882031870501535,
          -0.12690750946234297,
          null,
          -0.19882031870501535,
          -0.2677864666483341,
          null,
          -0.19882031870501535,
          -0.0074534322886378995,
          null,
          -0.19882031870501535,
          0.05064939962313997,
          null,
          -0.19882031870501535,
          -0.25929033367540844,
          null,
          -0.19882031870501535,
          -0.13069498361799603,
          null,
          -0.19882031870501535,
          -0.2630026278229095,
          null,
          -0.19882031870501535,
          -0.03789040083224097,
          null,
          -0.19882031870501535,
          -0.20098540852331964,
          null,
          -0.11118968718019175,
          -0.045873038765458146,
          null,
          -0.11118968718019175,
          -0.02223371692046131,
          null,
          -0.11118968718019175,
          -0.08095273562398296,
          null,
          -0.11118968718019175,
          0.07337903340659907,
          null,
          -0.11118968718019175,
          -0.12690750946234297,
          null,
          -0.11118968718019175,
          -0.2677864666483341,
          null,
          -0.11118968718019175,
          -0.0074534322886378995,
          null,
          -0.11118968718019175,
          0.05064939962313997,
          null,
          -0.11118968718019175,
          -0.25929033367540844,
          null,
          -0.11118968718019175,
          -0.13069498361799603,
          null,
          -0.11118968718019175,
          -0.2630026278229095,
          null,
          -0.11118968718019175,
          -0.03789040083224097,
          null,
          -0.11118968718019175,
          -0.20098540852331964,
          null,
          -0.02223371692046131,
          -0.045873038765458146,
          null,
          -0.02223371692046131,
          -0.08095273562398296,
          null,
          -0.02223371692046131,
          0.07337903340659907,
          null,
          -0.02223371692046131,
          -0.12690750946234297,
          null,
          -0.02223371692046131,
          -0.2677864666483341,
          null,
          -0.02223371692046131,
          -0.0074534322886378995,
          null,
          -0.02223371692046131,
          0.05064939962313997,
          null,
          -0.02223371692046131,
          -0.25929033367540844,
          null,
          -0.02223371692046131,
          -0.13069498361799603,
          null,
          -0.02223371692046131,
          -0.2630026278229095,
          null,
          -0.02223371692046131,
          -0.03789040083224097,
          null,
          -0.02223371692046131,
          -0.20098540852331964,
          null,
          -0.08095273562398296,
          0.07337903340659907,
          null,
          -0.08095273562398296,
          -0.12690750946234297,
          null,
          -0.08095273562398296,
          -0.2677864666483341,
          null,
          -0.08095273562398296,
          -0.0074534322886378995,
          null,
          -0.08095273562398296,
          0.05064939962313997,
          null,
          -0.08095273562398296,
          -0.25929033367540844,
          null,
          -0.08095273562398296,
          -0.13069498361799603,
          null,
          -0.08095273562398296,
          -0.2630026278229095,
          null,
          -0.08095273562398296,
          -0.03789040083224097,
          null,
          -0.08095273562398296,
          -0.20098540852331964,
          null,
          0.07337903340659907,
          -0.045873038765458146,
          null,
          0.07337903340659907,
          -0.12690750946234297,
          null,
          0.07337903340659907,
          -0.2677864666483341,
          null,
          0.07337903340659907,
          -0.0074534322886378995,
          null,
          0.07337903340659907,
          0.05064939962313997,
          null,
          0.07337903340659907,
          -0.25929033367540844,
          null,
          0.07337903340659907,
          -0.13069498361799603,
          null,
          0.07337903340659907,
          -0.2630026278229095,
          null,
          0.07337903340659907,
          -0.03789040083224097,
          null,
          0.07337903340659907,
          -0.20098540852331964,
          null,
          -0.12690750946234297,
          -0.2677864666483341,
          null,
          -0.12690750946234297,
          -0.0074534322886378995,
          null,
          -0.12690750946234297,
          0.05064939962313997,
          null,
          -0.12690750946234297,
          -0.25929033367540844,
          null,
          -0.12690750946234297,
          -0.13069498361799603,
          null,
          -0.12690750946234297,
          -0.2630026278229095,
          null,
          -0.12690750946234297,
          -0.03789040083224097,
          null,
          -0.12690750946234297,
          -0.20098540852331964,
          null,
          -0.2677864666483341,
          -0.0074534322886378995,
          null,
          -0.2677864666483341,
          0.05064939962313997,
          null,
          -0.2677864666483341,
          -0.25929033367540844,
          null,
          -0.2677864666483341,
          -0.13069498361799603,
          null,
          -0.2677864666483341,
          -0.2630026278229095,
          null,
          -0.2677864666483341,
          -0.03789040083224097,
          null,
          -0.2677864666483341,
          -0.20098540852331964,
          null,
          -0.0074534322886378995,
          0.05064939962313997,
          null,
          -0.0074534322886378995,
          -0.13069498361799603,
          null,
          -0.0074534322886378995,
          -0.2630026278229095,
          null,
          -0.0074534322886378995,
          -0.03789040083224097,
          null,
          -0.0074534322886378995,
          -0.20098540852331964,
          null,
          0.05064939962313997,
          -0.13069498361799603,
          null,
          0.05064939962313997,
          -0.2630026278229095,
          null,
          0.05064939962313997,
          -0.03789040083224097,
          null,
          0.05064939962313997,
          -0.20098540852331964,
          null,
          -0.25929033367540844,
          -0.045873038765458146,
          null,
          -0.25929033367540844,
          -0.13069498361799603,
          null,
          -0.25929033367540844,
          -0.2630026278229095,
          null,
          -0.25929033367540844,
          -0.03789040083224097,
          null,
          -0.25929033367540844,
          -0.20098540852331964,
          null,
          -0.13069498361799603,
          -0.045873038765458146,
          null,
          -0.13069498361799603,
          -0.2630026278229095,
          null,
          -0.13069498361799603,
          -0.03789040083224097,
          null,
          -0.13069498361799603,
          -0.20098540852331964,
          null,
          -0.2630026278229095,
          -0.03789040083224097,
          null,
          -0.2630026278229095,
          -0.20098540852331964,
          null,
          -0.03789040083224097,
          -0.045873038765458146,
          null,
          -0.03789040083224097,
          -0.20098540852331964,
          null
         ],
         "y": [
          0.5147340161344195,
          0.291924718223831,
          null,
          0.291924718223831,
          0.0004802919743101449,
          null,
          -0.22773719255736072,
          0.06663172604273533,
          null,
          -0.22773719255736072,
          0.063579697678531,
          null,
          -0.22773719255736072,
          -0.13147829918772322,
          null,
          -0.22773719255736072,
          0.0004802919743101449,
          null,
          -0.22773719255736072,
          -0.20818927048255453,
          null,
          -0.22773719255736072,
          -0.05757535971581289,
          null,
          -0.22773719255736072,
          -0.24340259712232146,
          null,
          -0.22773719255736072,
          -0.16386562937876198,
          null,
          -0.22773719255736072,
          0.09450826319793072,
          null,
          -0.22773719255736072,
          0.003995343686162611,
          null,
          -0.22773719255736072,
          -0.16859345930460873,
          null,
          -0.22773719255736072,
          -0.02260651159645418,
          null,
          -0.22773719255736072,
          -0.10930227591401516,
          null,
          0.06663172604273533,
          0.29689653832169216,
          null,
          0.06663172604273533,
          0.063579697678531,
          null,
          0.06663172604273533,
          -0.13147829918772322,
          null,
          0.06663172604273533,
          0.0004802919743101449,
          null,
          0.06663172604273533,
          -0.20818927048255453,
          null,
          0.06663172604273533,
          -0.05757535971581289,
          null,
          0.06663172604273533,
          -0.24340259712232146,
          null,
          0.06663172604273533,
          -0.16386562937876198,
          null,
          0.06663172604273533,
          0.09450826319793072,
          null,
          0.06663172604273533,
          0.003995343686162611,
          null,
          0.06663172604273533,
          -0.16859345930460873,
          null,
          0.06663172604273533,
          -0.02260651159645418,
          null,
          0.06663172604273533,
          -0.10930227591401516,
          null,
          0.063579697678531,
          0.29689653832169216,
          null,
          0.063579697678531,
          -0.13147829918772322,
          null,
          0.063579697678531,
          0.0004802919743101449,
          null,
          0.063579697678531,
          -0.20818927048255453,
          null,
          0.063579697678531,
          -0.05757535971581289,
          null,
          0.063579697678531,
          -0.24340259712232146,
          null,
          0.063579697678531,
          -0.16386562937876198,
          null,
          0.063579697678531,
          0.09450826319793072,
          null,
          0.063579697678531,
          0.003995343686162611,
          null,
          0.063579697678531,
          -0.16859345930460873,
          null,
          0.063579697678531,
          -0.02260651159645418,
          null,
          0.063579697678531,
          -0.10930227591401516,
          null,
          -0.13147829918772322,
          0.0004802919743101449,
          null,
          -0.13147829918772322,
          -0.20818927048255453,
          null,
          -0.13147829918772322,
          -0.05757535971581289,
          null,
          -0.13147829918772322,
          -0.24340259712232146,
          null,
          -0.13147829918772322,
          -0.16386562937876198,
          null,
          -0.13147829918772322,
          0.09450826319793072,
          null,
          -0.13147829918772322,
          0.003995343686162611,
          null,
          -0.13147829918772322,
          -0.16859345930460873,
          null,
          -0.13147829918772322,
          -0.02260651159645418,
          null,
          -0.13147829918772322,
          -0.10930227591401516,
          null,
          0.0004802919743101449,
          0.29689653832169216,
          null,
          0.0004802919743101449,
          -0.20818927048255453,
          null,
          0.0004802919743101449,
          -0.05757535971581289,
          null,
          0.0004802919743101449,
          -0.24340259712232146,
          null,
          0.0004802919743101449,
          -0.16386562937876198,
          null,
          0.0004802919743101449,
          0.09450826319793072,
          null,
          0.0004802919743101449,
          0.003995343686162611,
          null,
          0.0004802919743101449,
          -0.16859345930460873,
          null,
          0.0004802919743101449,
          -0.02260651159645418,
          null,
          0.0004802919743101449,
          -0.10930227591401516,
          null,
          -0.20818927048255453,
          -0.05757535971581289,
          null,
          -0.20818927048255453,
          -0.24340259712232146,
          null,
          -0.20818927048255453,
          -0.16386562937876198,
          null,
          -0.20818927048255453,
          0.09450826319793072,
          null,
          -0.20818927048255453,
          0.003995343686162611,
          null,
          -0.20818927048255453,
          -0.16859345930460873,
          null,
          -0.20818927048255453,
          -0.02260651159645418,
          null,
          -0.20818927048255453,
          -0.10930227591401516,
          null,
          -0.05757535971581289,
          -0.24340259712232146,
          null,
          -0.05757535971581289,
          -0.16386562937876198,
          null,
          -0.05757535971581289,
          0.09450826319793072,
          null,
          -0.05757535971581289,
          0.003995343686162611,
          null,
          -0.05757535971581289,
          -0.16859345930460873,
          null,
          -0.05757535971581289,
          -0.02260651159645418,
          null,
          -0.05757535971581289,
          -0.10930227591401516,
          null,
          -0.24340259712232146,
          -0.16386562937876198,
          null,
          -0.24340259712232146,
          0.003995343686162611,
          null,
          -0.24340259712232146,
          -0.16859345930460873,
          null,
          -0.24340259712232146,
          -0.02260651159645418,
          null,
          -0.24340259712232146,
          -0.10930227591401516,
          null,
          -0.16386562937876198,
          0.003995343686162611,
          null,
          -0.16386562937876198,
          -0.16859345930460873,
          null,
          -0.16386562937876198,
          -0.02260651159645418,
          null,
          -0.16386562937876198,
          -0.10930227591401516,
          null,
          0.09450826319793072,
          0.29689653832169216,
          null,
          0.09450826319793072,
          0.003995343686162611,
          null,
          0.09450826319793072,
          -0.16859345930460873,
          null,
          0.09450826319793072,
          -0.02260651159645418,
          null,
          0.09450826319793072,
          -0.10930227591401516,
          null,
          0.003995343686162611,
          0.29689653832169216,
          null,
          0.003995343686162611,
          -0.16859345930460873,
          null,
          0.003995343686162611,
          -0.02260651159645418,
          null,
          0.003995343686162611,
          -0.10930227591401516,
          null,
          -0.16859345930460873,
          -0.02260651159645418,
          null,
          -0.16859345930460873,
          -0.10930227591401516,
          null,
          -0.02260651159645418,
          0.29689653832169216,
          null,
          -0.02260651159645418,
          -0.10930227591401516,
          null
         ]
        },
        {
         "hoverinfo": "text",
         "marker": {
          "color": [
           1,
           2,
           13,
           14,
           14,
           13,
           15,
           13,
           13,
           12,
           12,
           12,
           14,
           13,
           14,
           13,
           6
          ],
          "colorbar": {
           "thickness": 15,
           "title": {
            "side": "right",
            "text": "Node Connections"
           },
           "xanchor": "left"
          },
          "showscale": true,
          "size": 30
         },
         "mode": "markers",
         "text": [
          "food_calorie_conversion_factor.csv - # of connections: 1",
          "food_protein_conversion_factor.csv - # of connections: 2",
          "food_nutrient_derivation.csv - # of connections: 13",
          "food_nutrient2.csv - # of connections: 14",
          "food_nutrient_conversion_factor.csv - # of connections: 14",
          "food_attribute_type.csv - # of connections: 13",
          "food_attribute.csv - # of connections: 15",
          "retention_factor.csv - # of connections: 13",
          "food_update_log_entry.csv - # of connections: 13",
          "measure_unit.csv - # of connections: 12",
          "nutrient.csv - # of connections: 12",
          "food.csv - # of connections: 12",
          "food_nutrient.csv - # of connections: 14",
          "food_nutrient_source.csv - # of connections: 13",
          "food_portion.csv - # of connections: 14",
          "food_category.csv - # of connections: 13",
          "sr_legacy_food.csv - # of connections: 6"
         ],
         "type": "scatter",
         "x": [
          1,
          0.6290522270365594,
          -0.19882031870501535,
          -0.11118968718019175,
          -0.02223371692046131,
          -0.08095273562398296,
          0.07337903340659907,
          -0.12690750946234297,
          -0.2677864666483341,
          -0.0074534322886378995,
          0.05064939962313997,
          -0.25929033367540844,
          -0.13069498361799603,
          -0.2630026278229095,
          -0.03789040083224097,
          -0.20098540852331964,
          -0.045873038765458146
         ],
         "y": [
          0.5147340161344195,
          0.291924718223831,
          -0.22773719255736072,
          0.06663172604273533,
          0.063579697678531,
          -0.13147829918772322,
          0.0004802919743101449,
          -0.20818927048255453,
          -0.05757535971581289,
          -0.24340259712232146,
          -0.16386562937876198,
          0.09450826319793072,
          0.003995343686162611,
          -0.16859345930460873,
          -0.02260651159645418,
          -0.10930227591401516,
          0.29689653832169216
         ]
        }
       ],
       "layout": {
        "annotations": [
         {
          "font": {
           "size": 10
          },
          "showarrow": false,
          "text": "calorie",
          "x": 1,
          "xref": "x",
          "y": 0.5147340161344195,
          "yref": "y"
         },
         {
          "font": {
           "size": 10
          },
          "showarrow": false,
          "text": "protein",
          "x": 0.6290522270365594,
          "xref": "x",
          "y": 0.291924718223831,
          "yref": "y"
         },
         {
          "font": {
           "size": 10
          },
          "showarrow": false,
          "text": "nutrient",
          "x": -0.19882031870501535,
          "xref": "x",
          "y": -0.22773719255736072,
          "yref": "y"
         },
         {
          "font": {
           "size": 10
          },
          "showarrow": false,
          "text": "nutrient2.csv",
          "x": -0.11118968718019175,
          "xref": "x",
          "y": 0.06663172604273533,
          "yref": "y"
         },
         {
          "font": {
           "size": 10
          },
          "showarrow": false,
          "text": "nutrient",
          "x": -0.02223371692046131,
          "xref": "x",
          "y": 0.063579697678531,
          "yref": "y"
         },
         {
          "font": {
           "size": 10
          },
          "showarrow": false,
          "text": "attribute",
          "x": -0.08095273562398296,
          "xref": "x",
          "y": -0.13147829918772322,
          "yref": "y"
         },
         {
          "font": {
           "size": 10
          },
          "showarrow": false,
          "text": "attribute.csv",
          "x": 0.07337903340659907,
          "xref": "x",
          "y": 0.0004802919743101449,
          "yref": "y"
         },
         {
          "font": {
           "size": 10
          },
          "showarrow": false,
          "text": "factor.csv",
          "x": -0.12690750946234297,
          "xref": "x",
          "y": -0.20818927048255453,
          "yref": "y"
         },
         {
          "font": {
           "size": 10
          },
          "showarrow": false,
          "text": "update",
          "x": -0.2677864666483341,
          "xref": "x",
          "y": -0.05757535971581289,
          "yref": "y"
         },
         {
          "font": {
           "size": 10
          },
          "showarrow": false,
          "text": "unit.csv",
          "x": -0.0074534322886378995,
          "xref": "x",
          "y": -0.24340259712232146,
          "yref": "y"
         },
         {
          "font": {
           "size": 10
          },
          "showarrow": false,
          "text": "nutrient.csv",
          "x": 0.05064939962313997,
          "xref": "x",
          "y": -0.16386562937876198,
          "yref": "y"
         },
         {
          "font": {
           "size": 10
          },
          "showarrow": false,
          "text": "food.csv",
          "x": -0.25929033367540844,
          "xref": "x",
          "y": 0.09450826319793072,
          "yref": "y"
         },
         {
          "font": {
           "size": 10
          },
          "showarrow": false,
          "text": "nutrient.csv",
          "x": -0.13069498361799603,
          "xref": "x",
          "y": 0.003995343686162611,
          "yref": "y"
         },
         {
          "font": {
           "size": 10
          },
          "showarrow": false,
          "text": "nutrient",
          "x": -0.2630026278229095,
          "xref": "x",
          "y": -0.16859345930460873,
          "yref": "y"
         },
         {
          "font": {
           "size": 10
          },
          "showarrow": false,
          "text": "portion.csv",
          "x": -0.03789040083224097,
          "xref": "x",
          "y": -0.02260651159645418,
          "yref": "y"
         },
         {
          "font": {
           "size": 10
          },
          "showarrow": false,
          "text": "category.csv",
          "x": -0.20098540852331964,
          "xref": "x",
          "y": -0.10930227591401516,
          "yref": "y"
         },
         {
          "font": {
           "size": 10
          },
          "showarrow": false,
          "text": "legacy",
          "x": -0.045873038765458146,
          "xref": "x",
          "y": 0.29689653832169216,
          "yref": "y"
         }
        ],
        "autosize": true,
        "hovermode": "closest",
        "margin": {
         "b": 0,
         "l": 0,
         "r": 0,
         "t": 0
        },
        "showlegend": false,
        "template": {
         "data": {
          "bar": [
           {
            "error_x": {
             "color": "#2a3f5f"
            },
            "error_y": {
             "color": "#2a3f5f"
            },
            "marker": {
             "line": {
              "color": "#E5ECF6",
              "width": 0.5
             },
             "pattern": {
              "fillmode": "overlay",
              "size": 10,
              "solidity": 0.2
             }
            },
            "type": "bar"
           }
          ],
          "barpolar": [
           {
            "marker": {
             "line": {
              "color": "#E5ECF6",
              "width": 0.5
             },
             "pattern": {
              "fillmode": "overlay",
              "size": 10,
              "solidity": 0.2
             }
            },
            "type": "barpolar"
           }
          ],
          "carpet": [
           {
            "aaxis": {
             "endlinecolor": "#2a3f5f",
             "gridcolor": "white",
             "linecolor": "white",
             "minorgridcolor": "white",
             "startlinecolor": "#2a3f5f"
            },
            "baxis": {
             "endlinecolor": "#2a3f5f",
             "gridcolor": "white",
             "linecolor": "white",
             "minorgridcolor": "white",
             "startlinecolor": "#2a3f5f"
            },
            "type": "carpet"
           }
          ],
          "choropleth": [
           {
            "colorbar": {
             "outlinewidth": 0,
             "ticks": ""
            },
            "type": "choropleth"
           }
          ],
          "contour": [
           {
            "colorbar": {
             "outlinewidth": 0,
             "ticks": ""
            },
            "colorscale": [
             [
              0,
              "#0d0887"
             ],
             [
              0.1111111111111111,
              "#46039f"
             ],
             [
              0.2222222222222222,
              "#7201a8"
             ],
             [
              0.3333333333333333,
              "#9c179e"
             ],
             [
              0.4444444444444444,
              "#bd3786"
             ],
             [
              0.5555555555555556,
              "#d8576b"
             ],
             [
              0.6666666666666666,
              "#ed7953"
             ],
             [
              0.7777777777777778,
              "#fb9f3a"
             ],
             [
              0.8888888888888888,
              "#fdca26"
             ],
             [
              1,
              "#f0f921"
             ]
            ],
            "type": "contour"
           }
          ],
          "contourcarpet": [
           {
            "colorbar": {
             "outlinewidth": 0,
             "ticks": ""
            },
            "type": "contourcarpet"
           }
          ],
          "heatmap": [
           {
            "colorbar": {
             "outlinewidth": 0,
             "ticks": ""
            },
            "colorscale": [
             [
              0,
              "#0d0887"
             ],
             [
              0.1111111111111111,
              "#46039f"
             ],
             [
              0.2222222222222222,
              "#7201a8"
             ],
             [
              0.3333333333333333,
              "#9c179e"
             ],
             [
              0.4444444444444444,
              "#bd3786"
             ],
             [
              0.5555555555555556,
              "#d8576b"
             ],
             [
              0.6666666666666666,
              "#ed7953"
             ],
             [
              0.7777777777777778,
              "#fb9f3a"
             ],
             [
              0.8888888888888888,
              "#fdca26"
             ],
             [
              1,
              "#f0f921"
             ]
            ],
            "type": "heatmap"
           }
          ],
          "heatmapgl": [
           {
            "colorbar": {
             "outlinewidth": 0,
             "ticks": ""
            },
            "colorscale": [
             [
              0,
              "#0d0887"
             ],
             [
              0.1111111111111111,
              "#46039f"
             ],
             [
              0.2222222222222222,
              "#7201a8"
             ],
             [
              0.3333333333333333,
              "#9c179e"
             ],
             [
              0.4444444444444444,
              "#bd3786"
             ],
             [
              0.5555555555555556,
              "#d8576b"
             ],
             [
              0.6666666666666666,
              "#ed7953"
             ],
             [
              0.7777777777777778,
              "#fb9f3a"
             ],
             [
              0.8888888888888888,
              "#fdca26"
             ],
             [
              1,
              "#f0f921"
             ]
            ],
            "type": "heatmapgl"
           }
          ],
          "histogram": [
           {
            "marker": {
             "pattern": {
              "fillmode": "overlay",
              "size": 10,
              "solidity": 0.2
             }
            },
            "type": "histogram"
           }
          ],
          "histogram2d": [
           {
            "colorbar": {
             "outlinewidth": 0,
             "ticks": ""
            },
            "colorscale": [
             [
              0,
              "#0d0887"
             ],
             [
              0.1111111111111111,
              "#46039f"
             ],
             [
              0.2222222222222222,
              "#7201a8"
             ],
             [
              0.3333333333333333,
              "#9c179e"
             ],
             [
              0.4444444444444444,
              "#bd3786"
             ],
             [
              0.5555555555555556,
              "#d8576b"
             ],
             [
              0.6666666666666666,
              "#ed7953"
             ],
             [
              0.7777777777777778,
              "#fb9f3a"
             ],
             [
              0.8888888888888888,
              "#fdca26"
             ],
             [
              1,
              "#f0f921"
             ]
            ],
            "type": "histogram2d"
           }
          ],
          "histogram2dcontour": [
           {
            "colorbar": {
             "outlinewidth": 0,
             "ticks": ""
            },
            "colorscale": [
             [
              0,
              "#0d0887"
             ],
             [
              0.1111111111111111,
              "#46039f"
             ],
             [
              0.2222222222222222,
              "#7201a8"
             ],
             [
              0.3333333333333333,
              "#9c179e"
             ],
             [
              0.4444444444444444,
              "#bd3786"
             ],
             [
              0.5555555555555556,
              "#d8576b"
             ],
             [
              0.6666666666666666,
              "#ed7953"
             ],
             [
              0.7777777777777778,
              "#fb9f3a"
             ],
             [
              0.8888888888888888,
              "#fdca26"
             ],
             [
              1,
              "#f0f921"
             ]
            ],
            "type": "histogram2dcontour"
           }
          ],
          "mesh3d": [
           {
            "colorbar": {
             "outlinewidth": 0,
             "ticks": ""
            },
            "type": "mesh3d"
           }
          ],
          "parcoords": [
           {
            "line": {
             "colorbar": {
              "outlinewidth": 0,
              "ticks": ""
             }
            },
            "type": "parcoords"
           }
          ],
          "pie": [
           {
            "automargin": true,
            "type": "pie"
           }
          ],
          "scatter": [
           {
            "fillpattern": {
             "fillmode": "overlay",
             "size": 10,
             "solidity": 0.2
            },
            "type": "scatter"
           }
          ],
          "scatter3d": [
           {
            "line": {
             "colorbar": {
              "outlinewidth": 0,
              "ticks": ""
             }
            },
            "marker": {
             "colorbar": {
              "outlinewidth": 0,
              "ticks": ""
             }
            },
            "type": "scatter3d"
           }
          ],
          "scattercarpet": [
           {
            "marker": {
             "colorbar": {
              "outlinewidth": 0,
              "ticks": ""
             }
            },
            "type": "scattercarpet"
           }
          ],
          "scattergeo": [
           {
            "marker": {
             "colorbar": {
              "outlinewidth": 0,
              "ticks": ""
             }
            },
            "type": "scattergeo"
           }
          ],
          "scattergl": [
           {
            "marker": {
             "colorbar": {
              "outlinewidth": 0,
              "ticks": ""
             }
            },
            "type": "scattergl"
           }
          ],
          "scattermapbox": [
           {
            "marker": {
             "colorbar": {
              "outlinewidth": 0,
              "ticks": ""
             }
            },
            "type": "scattermapbox"
           }
          ],
          "scatterpolar": [
           {
            "marker": {
             "colorbar": {
              "outlinewidth": 0,
              "ticks": ""
             }
            },
            "type": "scatterpolar"
           }
          ],
          "scatterpolargl": [
           {
            "marker": {
             "colorbar": {
              "outlinewidth": 0,
              "ticks": ""
             }
            },
            "type": "scatterpolargl"
           }
          ],
          "scatterternary": [
           {
            "marker": {
             "colorbar": {
              "outlinewidth": 0,
              "ticks": ""
             }
            },
            "type": "scatterternary"
           }
          ],
          "surface": [
           {
            "colorbar": {
             "outlinewidth": 0,
             "ticks": ""
            },
            "colorscale": [
             [
              0,
              "#0d0887"
             ],
             [
              0.1111111111111111,
              "#46039f"
             ],
             [
              0.2222222222222222,
              "#7201a8"
             ],
             [
              0.3333333333333333,
              "#9c179e"
             ],
             [
              0.4444444444444444,
              "#bd3786"
             ],
             [
              0.5555555555555556,
              "#d8576b"
             ],
             [
              0.6666666666666666,
              "#ed7953"
             ],
             [
              0.7777777777777778,
              "#fb9f3a"
             ],
             [
              0.8888888888888888,
              "#fdca26"
             ],
             [
              1,
              "#f0f921"
             ]
            ],
            "type": "surface"
           }
          ],
          "table": [
           {
            "cells": {
             "fill": {
              "color": "#EBF0F8"
             },
             "line": {
              "color": "white"
             }
            },
            "header": {
             "fill": {
              "color": "#C8D4E3"
             },
             "line": {
              "color": "white"
             }
            },
            "type": "table"
           }
          ]
         },
         "layout": {
          "annotationdefaults": {
           "arrowcolor": "#2a3f5f",
           "arrowhead": 0,
           "arrowwidth": 1
          },
          "autotypenumbers": "strict",
          "coloraxis": {
           "colorbar": {
            "outlinewidth": 0,
            "ticks": ""
           }
          },
          "colorscale": {
           "diverging": [
            [
             0,
             "#8e0152"
            ],
            [
             0.1,
             "#c51b7d"
            ],
            [
             0.2,
             "#de77ae"
            ],
            [
             0.3,
             "#f1b6da"
            ],
            [
             0.4,
             "#fde0ef"
            ],
            [
             0.5,
             "#f7f7f7"
            ],
            [
             0.6,
             "#e6f5d0"
            ],
            [
             0.7,
             "#b8e186"
            ],
            [
             0.8,
             "#7fbc41"
            ],
            [
             0.9,
             "#4d9221"
            ],
            [
             1,
             "#276419"
            ]
           ],
           "sequential": [
            [
             0,
             "#0d0887"
            ],
            [
             0.1111111111111111,
             "#46039f"
            ],
            [
             0.2222222222222222,
             "#7201a8"
            ],
            [
             0.3333333333333333,
             "#9c179e"
            ],
            [
             0.4444444444444444,
             "#bd3786"
            ],
            [
             0.5555555555555556,
             "#d8576b"
            ],
            [
             0.6666666666666666,
             "#ed7953"
            ],
            [
             0.7777777777777778,
             "#fb9f3a"
            ],
            [
             0.8888888888888888,
             "#fdca26"
            ],
            [
             1,
             "#f0f921"
            ]
           ],
           "sequentialminus": [
            [
             0,
             "#0d0887"
            ],
            [
             0.1111111111111111,
             "#46039f"
            ],
            [
             0.2222222222222222,
             "#7201a8"
            ],
            [
             0.3333333333333333,
             "#9c179e"
            ],
            [
             0.4444444444444444,
             "#bd3786"
            ],
            [
             0.5555555555555556,
             "#d8576b"
            ],
            [
             0.6666666666666666,
             "#ed7953"
            ],
            [
             0.7777777777777778,
             "#fb9f3a"
            ],
            [
             0.8888888888888888,
             "#fdca26"
            ],
            [
             1,
             "#f0f921"
            ]
           ]
          },
          "colorway": [
           "#636efa",
           "#EF553B",
           "#00cc96",
           "#ab63fa",
           "#FFA15A",
           "#19d3f3",
           "#FF6692",
           "#B6E880",
           "#FF97FF",
           "#FECB52"
          ],
          "font": {
           "color": "#2a3f5f"
          },
          "geo": {
           "bgcolor": "white",
           "lakecolor": "white",
           "landcolor": "#E5ECF6",
           "showlakes": true,
           "showland": true,
           "subunitcolor": "white"
          },
          "hoverlabel": {
           "align": "left"
          },
          "hovermode": "closest",
          "mapbox": {
           "style": "light"
          },
          "paper_bgcolor": "white",
          "plot_bgcolor": "#E5ECF6",
          "polar": {
           "angularaxis": {
            "gridcolor": "white",
            "linecolor": "white",
            "ticks": ""
           },
           "bgcolor": "#E5ECF6",
           "radialaxis": {
            "gridcolor": "white",
            "linecolor": "white",
            "ticks": ""
           }
          },
          "scene": {
           "xaxis": {
            "backgroundcolor": "#E5ECF6",
            "gridcolor": "white",
            "gridwidth": 2,
            "linecolor": "white",
            "showbackground": true,
            "ticks": "",
            "zerolinecolor": "white"
           },
           "yaxis": {
            "backgroundcolor": "#E5ECF6",
            "gridcolor": "white",
            "gridwidth": 2,
            "linecolor": "white",
            "showbackground": true,
            "ticks": "",
            "zerolinecolor": "white"
           },
           "zaxis": {
            "backgroundcolor": "#E5ECF6",
            "gridcolor": "white",
            "gridwidth": 2,
            "linecolor": "white",
            "showbackground": true,
            "ticks": "",
            "zerolinecolor": "white"
           }
          },
          "shapedefaults": {
           "line": {
            "color": "#2a3f5f"
           }
          },
          "ternary": {
           "aaxis": {
            "gridcolor": "white",
            "linecolor": "white",
            "ticks": ""
           },
           "baxis": {
            "gridcolor": "white",
            "linecolor": "white",
            "ticks": ""
           },
           "bgcolor": "#E5ECF6",
           "caxis": {
            "gridcolor": "white",
            "linecolor": "white",
            "ticks": ""
           }
          },
          "title": {
           "x": 0.05
          },
          "xaxis": {
           "automargin": true,
           "gridcolor": "white",
           "linecolor": "white",
           "ticks": "",
           "title": {
            "standoff": 15
           },
           "zerolinecolor": "white",
           "zerolinewidth": 2
          },
          "yaxis": {
           "automargin": true,
           "gridcolor": "white",
           "linecolor": "white",
           "ticks": "",
           "title": {
            "standoff": 15
           },
           "zerolinecolor": "white",
           "zerolinewidth": 2
          }
         }
        },
        "xaxis": {
         "autorange": true,
         "range": [
          -0.3604796617446198,
          1.0926931950962857
         ],
         "showgrid": false,
         "showticklabels": false,
         "type": "linear",
         "zeroline": false
        },
        "yaxis": {
         "autorange": true,
         "range": [
          -0.34065048730446884,
          0.6119819063165669
         ],
         "showgrid": false,
         "showticklabels": false,
         "type": "linear",
         "zeroline": false
        }
       }
      },
      "image/png": "[encoded data removed]",
      "text/html": [
       "<div>                            <div id=\"2f884504-4c60-4d77-8b19-6ceee0cd9bed\" class=\"plotly-graph-div\" style=\"height:525px; width:100%;\"></div>            <script type=\"text/javascript\">                require([\"plotly\"], function(Plotly) {                    window.PLOTLYENV=window.PLOTLYENV || {};                                    if (document.getElementById(\"2f884504-4c60-4d77-8b19-6ceee0cd9bed\")) {                    Plotly.newPlot(                        \"2f884504-4c60-4d77-8b19-6ceee0cd9bed\",                        [{\"hoverinfo\":\"text\",\"line\":{\"color\":\"#888\",\"width\":0.5},\"mode\":\"lines\",\"text\":[\"food_nutrient_conversion_factor_id\",\"value\",\"id\",\"id\",\"id, description\",\"id\",\"id, code, description\",\"id, description\",\"id\",\"id\",\"description\",\"id\",\"id, code, description\",\"id\",\"id, code, description\",\"fdc_id\",\"id, fdc_id\",\"id\",\"id, fdc_id\",\"id\",\"id\",\"id\",\"id\",\"fdc_id\",\"amount, nutrient_id, min_year_acquired, footnote, median, fdc_id, max, derivation_id, min, id, data_points\",\"id\",\"amount, min_year_acquired, footnote, fdc_id, id, data_points\",\"id\",\"fdc_id\",\"id\",\"id, fdc_id\",\"id\",\"id\",\"id\",\"id\",\"fdc_id\",\"id, fdc_id\",\"id\",\"id, fdc_id\",\"id\",\"id, name\",\"id, description\",\"id, description\",\"id, name\",\"id, name\",\"description\",\"id\",\"id, description\",\"id\",\"id, description\",\"fdc_id\",\"id\",\"id\",\"id, name\",\"id, name\",\"fdc_id\",\"id, fdc_id\",\"id\",\"id, seq_num, fdc_id\",\"id\",\"id, description\",\"id\",\"id\",\"description\",\"id\",\"id, code, description\",\"id\",\"id, code, description\",\"id\",\"id\",\"description\",\"id\",\"id, description\",\"id\",\"id, description\",\"id, name\",\"id\",\"id\",\"id\",\"id\",\"id\",\"id\",\"id\",\"id\",\"fdc_id\",\"fdc_id\",\"description\",\"fdc_id\",\"description\",\"fdc_id\",\"id\",\"amount, min_year_acquired, footnote, fdc_id, id, data_points\",\"id\",\"id\",\"id, code, description\",\"fdc_id\",\"id\"],\"x\":[1.0,0.6290522270365594,null,0.6290522270365594,0.07337903340659907,null,-0.19882031870501535,-0.11118968718019175,null,-0.19882031870501535,-0.02223371692046131,null,-0.19882031870501535,-0.08095273562398296,null,-0.19882031870501535,0.07337903340659907,null,-0.19882031870501535,-0.12690750946234297,null,-0.19882031870501535,-0.2677864666483341,null,-0.19882031870501535,-0.0074534322886378995,null,-0.19882031870501535,0.05064939962313997,null,-0.19882031870501535,-0.25929033367540844,null,-0.19882031870501535,-0.13069498361799603,null,-0.19882031870501535,-0.2630026278229095,null,-0.19882031870501535,-0.03789040083224097,null,-0.19882031870501535,-0.20098540852331964,null,-0.11118968718019175,-0.045873038765458146,null,-0.11118968718019175,-0.02223371692046131,null,-0.11118968718019175,-0.08095273562398296,null,-0.11118968718019175,0.07337903340659907,null,-0.11118968718019175,-0.12690750946234297,null,-0.11118968718019175,-0.2677864666483341,null,-0.11118968718019175,-0.0074534322886378995,null,-0.11118968718019175,0.05064939962313997,null,-0.11118968718019175,-0.25929033367540844,null,-0.11118968718019175,-0.13069498361799603,null,-0.11118968718019175,-0.2630026278229095,null,-0.11118968718019175,-0.03789040083224097,null,-0.11118968718019175,-0.20098540852331964,null,-0.02223371692046131,-0.045873038765458146,null,-0.02223371692046131,-0.08095273562398296,null,-0.02223371692046131,0.07337903340659907,null,-0.02223371692046131,-0.12690750946234297,null,-0.02223371692046131,-0.2677864666483341,null,-0.02223371692046131,-0.0074534322886378995,null,-0.02223371692046131,0.05064939962313997,null,-0.02223371692046131,-0.25929033367540844,null,-0.02223371692046131,-0.13069498361799603,null,-0.02223371692046131,-0.2630026278229095,null,-0.02223371692046131,-0.03789040083224097,null,-0.02223371692046131,-0.20098540852331964,null,-0.08095273562398296,0.07337903340659907,null,-0.08095273562398296,-0.12690750946234297,null,-0.08095273562398296,-0.2677864666483341,null,-0.08095273562398296,-0.0074534322886378995,null,-0.08095273562398296,0.05064939962313997,null,-0.08095273562398296,-0.25929033367540844,null,-0.08095273562398296,-0.13069498361799603,null,-0.08095273562398296,-0.2630026278229095,null,-0.08095273562398296,-0.03789040083224097,null,-0.08095273562398296,-0.20098540852331964,null,0.07337903340659907,-0.045873038765458146,null,0.07337903340659907,-0.12690750946234297,null,0.07337903340659907,-0.2677864666483341,null,0.07337903340659907,-0.0074534322886378995,null,0.07337903340659907,0.05064939962313997,null,0.07337903340659907,-0.25929033367540844,null,0.07337903340659907,-0.13069498361799603,null,0.07337903340659907,-0.2630026278229095,null,0.07337903340659907,-0.03789040083224097,null,0.07337903340659907,-0.20098540852331964,null,-0.12690750946234297,-0.2677864666483341,null,-0.12690750946234297,-0.0074534322886378995,null,-0.12690750946234297,0.05064939962313997,null,-0.12690750946234297,-0.25929033367540844,null,-0.12690750946234297,-0.13069498361799603,null,-0.12690750946234297,-0.2630026278229095,null,-0.12690750946234297,-0.03789040083224097,null,-0.12690750946234297,-0.20098540852331964,null,-0.2677864666483341,-0.0074534322886378995,null,-0.2677864666483341,0.05064939962313997,null,-0.2677864666483341,-0.25929033367540844,null,-0.2677864666483341,-0.13069498361799603,null,-0.2677864666483341,-0.2630026278229095,null,-0.2677864666483341,-0.03789040083224097,null,-0.2677864666483341,-0.20098540852331964,null,-0.0074534322886378995,0.05064939962313997,null,-0.0074534322886378995,-0.13069498361799603,null,-0.0074534322886378995,-0.2630026278229095,null,-0.0074534322886378995,-0.03789040083224097,null,-0.0074534322886378995,-0.20098540852331964,null,0.05064939962313997,-0.13069498361799603,null,0.05064939962313997,-0.2630026278229095,null,0.05064939962313997,-0.03789040083224097,null,0.05064939962313997,-0.20098540852331964,null,-0.25929033367540844,-0.045873038765458146,null,-0.25929033367540844,-0.13069498361799603,null,-0.25929033367540844,-0.2630026278229095,null,-0.25929033367540844,-0.03789040083224097,null,-0.25929033367540844,-0.20098540852331964,null,-0.13069498361799603,-0.045873038765458146,null,-0.13069498361799603,-0.2630026278229095,null,-0.13069498361799603,-0.03789040083224097,null,-0.13069498361799603,-0.20098540852331964,null,-0.2630026278229095,-0.03789040083224097,null,-0.2630026278229095,-0.20098540852331964,null,-0.03789040083224097,-0.045873038765458146,null,-0.03789040083224097,-0.20098540852331964,null],\"y\":[0.5147340161344195,0.291924718223831,null,0.291924718223831,0.0004802919743101449,null,-0.22773719255736072,0.06663172604273533,null,-0.22773719255736072,0.063579697678531,null,-0.22773719255736072,-0.13147829918772322,null,-0.22773719255736072,0.0004802919743101449,null,-0.22773719255736072,-0.20818927048255453,null,-0.22773719255736072,-0.05757535971581289,null,-0.22773719255736072,-0.24340259712232146,null,-0.22773719255736072,-0.16386562937876198,null,-0.22773719255736072,0.09450826319793072,null,-0.22773719255736072,0.003995343686162611,null,-0.22773719255736072,-0.16859345930460873,null,-0.22773719255736072,-0.02260651159645418,null,-0.22773719255736072,-0.10930227591401516,null,0.06663172604273533,0.29689653832169216,null,0.06663172604273533,0.063579697678531,null,0.06663172604273533,-0.13147829918772322,null,0.06663172604273533,0.0004802919743101449,null,0.06663172604273533,-0.20818927048255453,null,0.06663172604273533,-0.05757535971581289,null,0.06663172604273533,-0.24340259712232146,null,0.06663172604273533,-0.16386562937876198,null,0.06663172604273533,0.09450826319793072,null,0.06663172604273533,0.003995343686162611,null,0.06663172604273533,-0.16859345930460873,null,0.06663172604273533,-0.02260651159645418,null,0.06663172604273533,-0.10930227591401516,null,0.063579697678531,0.29689653832169216,null,0.063579697678531,-0.13147829918772322,null,0.063579697678531,0.0004802919743101449,null,0.063579697678531,-0.20818927048255453,null,0.063579697678531,-0.05757535971581289,null,0.063579697678531,-0.24340259712232146,null,0.063579697678531,-0.16386562937876198,null,0.063579697678531,0.09450826319793072,null,0.063579697678531,0.003995343686162611,null,0.063579697678531,-0.16859345930460873,null,0.063579697678531,-0.02260651159645418,null,0.063579697678531,-0.10930227591401516,null,-0.13147829918772322,0.0004802919743101449,null,-0.13147829918772322,-0.20818927048255453,null,-0.13147829918772322,-0.05757535971581289,null,-0.13147829918772322,-0.24340259712232146,null,-0.13147829918772322,-0.16386562937876198,null,-0.13147829918772322,0.09450826319793072,null,-0.13147829918772322,0.003995343686162611,null,-0.13147829918772322,-0.16859345930460873,null,-0.13147829918772322,-0.02260651159645418,null,-0.13147829918772322,-0.10930227591401516,null,0.0004802919743101449,0.29689653832169216,null,0.0004802919743101449,-0.20818927048255453,null,0.0004802919743101449,-0.05757535971581289,null,0.0004802919743101449,-0.24340259712232146,null,0.0004802919743101449,-0.16386562937876198,null,0.0004802919743101449,0.09450826319793072,null,0.0004802919743101449,0.003995343686162611,null,0.0004802919743101449,-0.16859345930460873,null,0.0004802919743101449,-0.02260651159645418,null,0.0004802919743101449,-0.10930227591401516,null,-0.20818927048255453,-0.05757535971581289,null,-0.20818927048255453,-0.24340259712232146,null,-0.20818927048255453,-0.16386562937876198,null,-0.20818927048255453,0.09450826319793072,null,-0.20818927048255453,0.003995343686162611,null,-0.20818927048255453,-0.16859345930460873,null,-0.20818927048255453,-0.02260651159645418,null,-0.20818927048255453,-0.10930227591401516,null,-0.05757535971581289,-0.24340259712232146,null,-0.05757535971581289,-0.16386562937876198,null,-0.05757535971581289,0.09450826319793072,null,-0.05757535971581289,0.003995343686162611,null,-0.05757535971581289,-0.16859345930460873,null,-0.05757535971581289,-0.02260651159645418,null,-0.05757535971581289,-0.10930227591401516,null,-0.24340259712232146,-0.16386562937876198,null,-0.24340259712232146,0.003995343686162611,null,-0.24340259712232146,-0.16859345930460873,null,-0.24340259712232146,-0.02260651159645418,null,-0.24340259712232146,-0.10930227591401516,null,-0.16386562937876198,0.003995343686162611,null,-0.16386562937876198,-0.16859345930460873,null,-0.16386562937876198,-0.02260651159645418,null,-0.16386562937876198,-0.10930227591401516,null,0.09450826319793072,0.29689653832169216,null,0.09450826319793072,0.003995343686162611,null,0.09450826319793072,-0.16859345930460873,null,0.09450826319793072,-0.02260651159645418,null,0.09450826319793072,-0.10930227591401516,null,0.003995343686162611,0.29689653832169216,null,0.003995343686162611,-0.16859345930460873,null,0.003995343686162611,-0.02260651159645418,null,0.003995343686162611,-0.10930227591401516,null,-0.16859345930460873,-0.02260651159645418,null,-0.16859345930460873,-0.10930227591401516,null,-0.02260651159645418,0.29689653832169216,null,-0.02260651159645418,-0.10930227591401516,null],\"type\":\"scatter\"},{\"hoverinfo\":\"text\",\"marker\":{\"color\":[1,2,13,14,14,13,15,13,13,12,12,12,14,13,14,13,6],\"colorbar\":{\"thickness\":15,\"title\":{\"side\":\"right\",\"text\":\"Node Connections\"},\"xanchor\":\"left\"},\"showscale\":true,\"size\":30},\"mode\":\"markers\",\"text\":[\"food_calorie_conversion_factor.csv - # of connections: 1\",\"food_protein_conversion_factor.csv - # of connections: 2\",\"food_nutrient_derivation.csv - # of connections: 13\",\"food_nutrient2.csv - # of connections: 14\",\"food_nutrient_conversion_factor.csv - # of connections: 14\",\"food_attribute_type.csv - # of connections: 13\",\"food_attribute.csv - # of connections: 15\",\"retention_factor.csv - # of connections: 13\",\"food_update_log_entry.csv - # of connections: 13\",\"measure_unit.csv - # of connections: 12\",\"nutrient.csv - # of connections: 12\",\"food.csv - # of connections: 12\",\"food_nutrient.csv - # of connections: 14\",\"food_nutrient_source.csv - # of connections: 13\",\"food_portion.csv - # of connections: 14\",\"food_category.csv - # of connections: 13\",\"sr_legacy_food.csv - # of connections: 6\"],\"x\":[1.0,0.6290522270365594,-0.19882031870501535,-0.11118968718019175,-0.02223371692046131,-0.08095273562398296,0.07337903340659907,-0.12690750946234297,-0.2677864666483341,-0.0074534322886378995,0.05064939962313997,-0.25929033367540844,-0.13069498361799603,-0.2630026278229095,-0.03789040083224097,-0.20098540852331964,-0.045873038765458146],\"y\":[0.5147340161344195,0.291924718223831,-0.22773719255736072,0.06663172604273533,0.063579697678531,-0.13147829918772322,0.0004802919743101449,-0.20818927048255453,-0.05757535971581289,-0.24340259712232146,-0.16386562937876198,0.09450826319793072,0.003995343686162611,-0.16859345930460873,-0.02260651159645418,-0.10930227591401516,0.29689653832169216],\"type\":\"scatter\"}],                        {\"annotations\":[{\"font\":{\"size\":10},\"showarrow\":false,\"text\":\"calorie\",\"x\":1.0,\"xref\":\"x\",\"y\":0.5147340161344195,\"yref\":\"y\"},{\"font\":{\"size\":10},\"showarrow\":false,\"text\":\"protein\",\"x\":0.6290522270365594,\"xref\":\"x\",\"y\":0.291924718223831,\"yref\":\"y\"},{\"font\":{\"size\":10},\"showarrow\":false,\"text\":\"nutrient\",\"x\":-0.19882031870501535,\"xref\":\"x\",\"y\":-0.22773719255736072,\"yref\":\"y\"},{\"font\":{\"size\":10},\"showarrow\":false,\"text\":\"nutrient2.csv\",\"x\":-0.11118968718019175,\"xref\":\"x\",\"y\":0.06663172604273533,\"yref\":\"y\"},{\"font\":{\"size\":10},\"showarrow\":false,\"text\":\"nutrient\",\"x\":-0.02223371692046131,\"xref\":\"x\",\"y\":0.063579697678531,\"yref\":\"y\"},{\"font\":{\"size\":10},\"showarrow\":false,\"text\":\"attribute\",\"x\":-0.08095273562398296,\"xref\":\"x\",\"y\":-0.13147829918772322,\"yref\":\"y\"},{\"font\":{\"size\":10},\"showarrow\":false,\"text\":\"attribute.csv\",\"x\":0.07337903340659907,\"xref\":\"x\",\"y\":0.0004802919743101449,\"yref\":\"y\"},{\"font\":{\"size\":10},\"showarrow\":false,\"text\":\"factor.csv\",\"x\":-0.12690750946234297,\"xref\":\"x\",\"y\":-0.20818927048255453,\"yref\":\"y\"},{\"font\":{\"size\":10},\"showarrow\":false,\"text\":\"update\",\"x\":-0.2677864666483341,\"xref\":\"x\",\"y\":-0.05757535971581289,\"yref\":\"y\"},{\"font\":{\"size\":10},\"showarrow\":false,\"text\":\"unit.csv\",\"x\":-0.0074534322886378995,\"xref\":\"x\",\"y\":-0.24340259712232146,\"yref\":\"y\"},{\"font\":{\"size\":10},\"showarrow\":false,\"text\":\"nutrient.csv\",\"x\":0.05064939962313997,\"xref\":\"x\",\"y\":-0.16386562937876198,\"yref\":\"y\"},{\"font\":{\"size\":10},\"showarrow\":false,\"text\":\"food.csv\",\"x\":-0.25929033367540844,\"xref\":\"x\",\"y\":0.09450826319793072,\"yref\":\"y\"},{\"font\":{\"size\":10},\"showarrow\":false,\"text\":\"nutrient.csv\",\"x\":-0.13069498361799603,\"xref\":\"x\",\"y\":0.003995343686162611,\"yref\":\"y\"},{\"font\":{\"size\":10},\"showarrow\":false,\"text\":\"nutrient\",\"x\":-0.2630026278229095,\"xref\":\"x\",\"y\":-0.16859345930460873,\"yref\":\"y\"},{\"font\":{\"size\":10},\"showarrow\":false,\"text\":\"portion.csv\",\"x\":-0.03789040083224097,\"xref\":\"x\",\"y\":-0.02260651159645418,\"yref\":\"y\"},{\"font\":{\"size\":10},\"showarrow\":false,\"text\":\"category.csv\",\"x\":-0.20098540852331964,\"xref\":\"x\",\"y\":-0.10930227591401516,\"yref\":\"y\"},{\"font\":{\"size\":10},\"showarrow\":false,\"text\":\"legacy\",\"x\":-0.045873038765458146,\"xref\":\"x\",\"y\":0.29689653832169216,\"yref\":\"y\"}],\"hovermode\":\"closest\",\"margin\":{\"b\":0,\"l\":0,\"r\":0,\"t\":0},\"showlegend\":false,\"xaxis\":{\"showgrid\":false,\"showticklabels\":false,\"zeroline\":false},\"yaxis\":{\"showgrid\":false,\"showticklabels\":false,\"zeroline\":false},\"template\":{\"data\":{\"histogram2dcontour\":[{\"type\":\"histogram2dcontour\",\"colorbar\":{\"outlinewidth\":0,\"ticks\":\"\"},\"colorscale\":[[0.0,\"#0d0887\"],[0.1111111111111111,\"#46039f\"],[0.2222222222222222,\"#7201a8\"],[0.3333333333333333,\"#9c179e\"],[0.4444444444444444,\"#bd3786\"],[0.5555555555555556,\"#d8576b\"],[0.6666666666666666,\"#ed7953\"],[0.7777777777777778,\"#fb9f3a\"],[0.8888888888888888,\"#fdca26\"],[1.0,\"#f0f921\"]]}],\"choropleth\":[{\"type\":\"choropleth\",\"colorbar\":{\"outlinewidth\":0,\"ticks\":\"\"}}],\"histogram2d\":[{\"type\":\"histogram2d\",\"colorbar\":{\"outlinewidth\":0,\"ticks\":\"\"},\"colorscale\":[[0.0,\"#0d0887\"],[0.1111111111111111,\"#46039f\"],[0.2222222222222222,\"#7201a8\"],[0.3333333333333333,\"#9c179e\"],[0.4444444444444444,\"#bd3786\"],[0.5555555555555556,\"#d8576b\"],[0.6666666666666666,\"#ed7953\"],[0.7777777777777778,\"#fb9f3a\"],[0.8888888888888888,\"#fdca26\"],[1.0,\"#f0f921\"]]}],\"heatmap\":[{\"type\":\"heatmap\",\"colorbar\":{\"outlinewidth\":0,\"ticks\":\"\"},\"colorscale\":[[0.0,\"#0d0887\"],[0.1111111111111111,\"#46039f\"],[0.2222222222222222,\"#7201a8\"],[0.3333333333333333,\"#9c179e\"],[0.4444444444444444,\"#bd3786\"],[0.5555555555555556,\"#d8576b\"],[0.6666666666666666,\"#ed7953\"],[0.7777777777777778,\"#fb9f3a\"],[0.8888888888888888,\"#fdca26\"],[1.0,\"#f0f921\"]]}],\"heatmapgl\":[{\"type\":\"heatmapgl\",\"colorbar\":{\"outlinewidth\":0,\"ticks\":\"\"},\"colorscale\":[[0.0,\"#0d0887\"],[0.1111111111111111,\"#46039f\"],[0.2222222222222222,\"#7201a8\"],[0.3333333333333333,\"#9c179e\"],[0.4444444444444444,\"#bd3786\"],[0.5555555555555556,\"#d8576b\"],[0.6666666666666666,\"#ed7953\"],[0.7777777777777778,\"#fb9f3a\"],[0.8888888888888888,\"#fdca26\"],[1.0,\"#f0f921\"]]}],\"contourcarpet\":[{\"type\":\"contourcarpet\",\"colorbar\":{\"outlinewidth\":0,\"ticks\":\"\"}}],\"contour\":[{\"type\":\"contour\",\"colorbar\":{\"outlinewidth\":0,\"ticks\":\"\"},\"colorscale\":[[0.0,\"#0d0887\"],[0.1111111111111111,\"#46039f\"],[0.2222222222222222,\"#7201a8\"],[0.3333333333333333,\"#9c179e\"],[0.4444444444444444,\"#bd3786\"],[0.5555555555555556,\"#d8576b\"],[0.6666666666666666,\"#ed7953\"],[0.7777777777777778,\"#fb9f3a\"],[0.8888888888888888,\"#fdca26\"],[1.0,\"#f0f921\"]]}],\"surface\":[{\"type\":\"surface\",\"colorbar\":{\"outlinewidth\":0,\"ticks\":\"\"},\"colorscale\":[[0.0,\"#0d0887\"],[0.1111111111111111,\"#46039f\"],[0.2222222222222222,\"#7201a8\"],[0.3333333333333333,\"#9c179e\"],[0.4444444444444444,\"#bd3786\"],[0.5555555555555556,\"#d8576b\"],[0.6666666666666666,\"#ed7953\"],[0.7777777777777778,\"#fb9f3a\"],[0.8888888888888888,\"#fdca26\"],[1.0,\"#f0f921\"]]}],\"mesh3d\":[{\"type\":\"mesh3d\",\"colorbar\":{\"outlinewidth\":0,\"ticks\":\"\"}}],\"scatter\":[{\"fillpattern\":{\"fillmode\":\"overlay\",\"size\":10,\"solidity\":0.2},\"type\":\"scatter\"}],\"parcoords\":[{\"type\":\"parcoords\",\"line\":{\"colorbar\":{\"outlinewidth\":0,\"ticks\":\"\"}}}],\"scatterpolargl\":[{\"type\":\"scatterpolargl\",\"marker\":{\"colorbar\":{\"outlinewidth\":0,\"ticks\":\"\"}}}],\"bar\":[{\"error_x\":{\"color\":\"#2a3f5f\"},\"error_y\":{\"color\":\"#2a3f5f\"},\"marker\":{\"line\":{\"color\":\"#E5ECF6\",\"width\":0.5},\"pattern\":{\"fillmode\":\"overlay\",\"size\":10,\"solidity\":0.2}},\"type\":\"bar\"}],\"scattergeo\":[{\"type\":\"scattergeo\",\"marker\":{\"colorbar\":{\"outlinewidth\":0,\"ticks\":\"\"}}}],\"scatterpolar\":[{\"type\":\"scatterpolar\",\"marker\":{\"colorbar\":{\"outlinewidth\":0,\"ticks\":\"\"}}}],\"histogram\":[{\"marker\":{\"pattern\":{\"fillmode\":\"overlay\",\"size\":10,\"solidity\":0.2}},\"type\":\"histogram\"}],\"scattergl\":[{\"type\":\"scattergl\",\"marker\":{\"colorbar\":{\"outlinewidth\":0,\"ticks\":\"\"}}}],\"scatter3d\":[{\"type\":\"scatter3d\",\"line\":{\"colorbar\":{\"outlinewidth\":0,\"ticks\":\"\"}},\"marker\":{\"colorbar\":{\"outlinewidth\":0,\"ticks\":\"\"}}}],\"scattermapbox\":[{\"type\":\"scattermapbox\",\"marker\":{\"colorbar\":{\"outlinewidth\":0,\"ticks\":\"\"}}}],\"scatterternary\":[{\"type\":\"scatterternary\",\"marker\":{\"colorbar\":{\"outlinewidth\":0,\"ticks\":\"\"}}}],\"scattercarpet\":[{\"type\":\"scattercarpet\",\"marker\":{\"colorbar\":{\"outlinewidth\":0,\"ticks\":\"\"}}}],\"carpet\":[{\"aaxis\":{\"endlinecolor\":\"#2a3f5f\",\"gridcolor\":\"white\",\"linecolor\":\"white\",\"minorgridcolor\":\"white\",\"startlinecolor\":\"#2a3f5f\"},\"baxis\":{\"endlinecolor\":\"#2a3f5f\",\"gridcolor\":\"white\",\"linecolor\":\"white\",\"minorgridcolor\":\"white\",\"startlinecolor\":\"#2a3f5f\"},\"type\":\"carpet\"}],\"table\":[{\"cells\":{\"fill\":{\"color\":\"#EBF0F8\"},\"line\":{\"color\":\"white\"}},\"header\":{\"fill\":{\"color\":\"#C8D4E3\"},\"line\":{\"color\":\"white\"}},\"type\":\"table\"}],\"barpolar\":[{\"marker\":{\"line\":{\"color\":\"#E5ECF6\",\"width\":0.5},\"pattern\":{\"fillmode\":\"overlay\",\"size\":10,\"solidity\":0.2}},\"type\":\"barpolar\"}],\"pie\":[{\"automargin\":true,\"type\":\"pie\"}]},\"layout\":{\"autotypenumbers\":\"strict\",\"colorway\":[\"#636efa\",\"#EF553B\",\"#00cc96\",\"#ab63fa\",\"#FFA15A\",\"#19d3f3\",\"#FF6692\",\"#B6E880\",\"#FF97FF\",\"#FECB52\"],\"font\":{\"color\":\"#2a3f5f\"},\"hovermode\":\"closest\",\"hoverlabel\":{\"align\":\"left\"},\"paper_bgcolor\":\"white\",\"plot_bgcolor\":\"#E5ECF6\",\"polar\":{\"bgcolor\":\"#E5ECF6\",\"angularaxis\":{\"gridcolor\":\"white\",\"linecolor\":\"white\",\"ticks\":\"\"},\"radialaxis\":{\"gridcolor\":\"white\",\"linecolor\":\"white\",\"ticks\":\"\"}},\"ternary\":{\"bgcolor\":\"#E5ECF6\",\"aaxis\":{\"gridcolor\":\"white\",\"linecolor\":\"white\",\"ticks\":\"\"},\"baxis\":{\"gridcolor\":\"white\",\"linecolor\":\"white\",\"ticks\":\"\"},\"caxis\":{\"gridcolor\":\"white\",\"linecolor\":\"white\",\"ticks\":\"\"}},\"coloraxis\":{\"colorbar\":{\"outlinewidth\":0,\"ticks\":\"\"}},\"colorscale\":{\"sequential\":[[0.0,\"#0d0887\"],[0.1111111111111111,\"#46039f\"],[0.2222222222222222,\"#7201a8\"],[0.3333333333333333,\"#9c179e\"],[0.4444444444444444,\"#bd3786\"],[0.5555555555555556,\"#d8576b\"],[0.6666666666666666,\"#ed7953\"],[0.7777777777777778,\"#fb9f3a\"],[0.8888888888888888,\"#fdca26\"],[1.0,\"#f0f921\"]],\"sequentialminus\":[[0.0,\"#0d0887\"],[0.1111111111111111,\"#46039f\"],[0.2222222222222222,\"#7201a8\"],[0.3333333333333333,\"#9c179e\"],[0.4444444444444444,\"#bd3786\"],[0.5555555555555556,\"#d8576b\"],[0.6666666666666666,\"#ed7953\"],[0.7777777777777778,\"#fb9f3a\"],[0.8888888888888888,\"#fdca26\"],[1.0,\"#f0f921\"]],\"diverging\":[[0,\"#8e0152\"],[0.1,\"#c51b7d\"],[0.2,\"#de77ae\"],[0.3,\"#f1b6da\"],[0.4,\"#fde0ef\"],[0.5,\"#f7f7f7\"],[0.6,\"#e6f5d0\"],[0.7,\"#b8e186\"],[0.8,\"#7fbc41\"],[0.9,\"#4d9221\"],[1,\"#276419\"]]},\"xaxis\":{\"gridcolor\":\"white\",\"linecolor\":\"white\",\"ticks\":\"\",\"title\":{\"standoff\":15},\"zerolinecolor\":\"white\",\"automargin\":true,\"zerolinewidth\":2},\"yaxis\":{\"gridcolor\":\"white\",\"linecolor\":\"white\",\"ticks\":\"\",\"title\":{\"standoff\":15},\"zerolinecolor\":\"white\",\"automargin\":true,\"zerolinewidth\":2},\"scene\":{\"xaxis\":{\"backgroundcolor\":\"#E5ECF6\",\"gridcolor\":\"white\",\"linecolor\":\"white\",\"showbackground\":true,\"ticks\":\"\",\"zerolinecolor\":\"white\",\"gridwidth\":2},\"yaxis\":{\"backgroundcolor\":\"#E5ECF6\",\"gridcolor\":\"white\",\"linecolor\":\"white\",\"showbackground\":true,\"ticks\":\"\",\"zerolinecolor\":\"white\",\"gridwidth\":2},\"zaxis\":{\"backgroundcolor\":\"#E5ECF6\",\"gridcolor\":\"white\",\"linecolor\":\"white\",\"showbackground\":true,\"ticks\":\"\",\"zerolinecolor\":\"white\",\"gridwidth\":2}},\"shapedefaults\":{\"line\":{\"color\":\"#2a3f5f\"}},\"annotationdefaults\":{\"arrowcolor\":\"#2a3f5f\",\"arrowhead\":0,\"arrowwidth\":1},\"geo\":{\"bgcolor\":\"white\",\"landcolor\":\"#E5ECF6\",\"subunitcolor\":\"white\",\"showland\":true,\"showlakes\":true,\"lakecolor\":\"white\"},\"title\":{\"x\":0.05},\"mapbox\":{\"style\":\"light\"}}}},                        {\"responsive\": true}                    ).then(function(){\n",
       "                            \n",
       "var gd = document.getElementById('2f884504-4c60-4d77-8b19-6ceee0cd9bed');\n",
       "var x = new MutationObserver(function (mutations, observer) {{\n",
       "        var display = window.getComputedStyle(gd).display;\n",
       "        if (!display || display === 'none') {{\n",
       "            console.log([gd, 'removed!']);\n",
       "            Plotly.purge(gd);\n",
       "            observer.disconnect();\n",
       "        }}\n",
       "}});\n",
       "\n",
       "// Listen for the removal of the full notebook cells\n",
       "var notebookContainer = gd.closest('#notebook-container');\n",
       "if (notebookContainer) {{\n",
       "    x.observe(notebookContainer, {childList: true});\n",
       "}}\n",
       "\n",
       "// Listen for the clearing of the current output cell\n",
       "var outputEl = gd.closest('.output');\n",
       "if (outputEl) {{\n",
       "    x.observe(outputEl, {childList: true});\n",
       "}}\n",
       "\n",
       "                        })                };                });            </script>        </div>"
      ]
     },
     "metadata": {},
     "output_type": "display_data"
    }
   ],
   "source": [
    "import plotly.graph_objects as go\n",
    "import networkx as nx\n",
    "\n",
    "# Initialize a NetworkX graph\n",
    "G = nx.Graph()\n",
    "\n",
    "# Add edges to the graph and set attributes\n",
    "for file, relations in common_key_dict.items():\n",
    "    for other_file, common_keys in relations.items():\n",
    "        num_common_keys = len(common_keys)\n",
    "        G.add_edge(file, other_file, weight=num_common_keys, label=\", \".join(common_keys))\n",
    "\n",
    "# Generate positions for the nodes\n",
    "pos = nx.spring_layout(G, seed=42)  # Seed for reproducibility\n",
    "\n",
    "# Initialize variables\n",
    "edge_x = []\n",
    "edge_y = []\n",
    "edge_text = []\n",
    "annotations = []\n",
    "\n",
    "# Extract positions, edges, and labels\n",
    "for edge in G.edges():\n",
    "    x0, y0 = pos[edge[0]]\n",
    "    x1, y1 = pos[edge[1]]\n",
    "    edge_x.extend([x0, x1, None])\n",
    "    edge_y.extend([y0, y1, None])\n",
    "    edge_text.append(G.edges[edge]['label'])\n",
    "\n",
    "node_x = [pos[node][0] for node in G.nodes()]\n",
    "node_y = [pos[node][1] for node in G.nodes()]\n",
    "\n",
    "# Create annotations for brief descriptions\n",
    "for node in G.nodes():\n",
    "    brief_description = node.split('_')[1] if '_' in node else node\n",
    "    annotations.append(\n",
    "        dict(\n",
    "            x=pos[node][0],\n",
    "            y=pos[node][1],\n",
    "            xref=\"x\",\n",
    "            yref=\"y\",\n",
    "            text=brief_description,\n",
    "            showarrow=False,\n",
    "            font=dict(size=10)\n",
    "        )\n",
    "    )\n",
    "\n",
    "\n",
    "# Create annotations for brief descriptions\n",
    "annotations = []\n",
    "for node in G.nodes():\n",
    "    brief_description = node.split('_')[1] if '_' in node else node  # Extract words before the second underscore\n",
    "    annotations.append(\n",
    "        dict(\n",
    "            x=pos[node][0],\n",
    "            y=pos[node][1],\n",
    "            xref=\"x\",\n",
    "            yref=\"y\",\n",
    "            text=brief_description,\n",
    "            showarrow=False,\n",
    "            font=dict(size=10)\n",
    "        )\n",
    "    )\n",
    "\n",
    "# Create the plot\n",
    "edge_trace = go.Scatter(\n",
    "    x=edge_x, y=edge_y,\n",
    "    line=dict(width=0.5, color='#888'),\n",
    "    hoverinfo='text',\n",
    "    mode='lines'\n",
    ")\n",
    "\n",
    "node_trace = go.Scatter(\n",
    "    x=node_x, y=node_y,\n",
    "    mode='markers',\n",
    "    hoverinfo='text',\n",
    "    marker=dict(\n",
    "        showscale=True,\n",
    "        size=30,\n",
    "        colorbar=dict(\n",
    "            thickness=15,\n",
    "            title='Node Connections',\n",
    "            xanchor='left',\n",
    "            titleside='right'\n",
    "        )\n",
    "    )\n",
    ")\n",
    "\n",
    "node_adjacencies = []\n",
    "node_text = []\n",
    "for node, adjacencies in enumerate(G.adjacency()):\n",
    "    node_adjacencies.append(len(adjacencies[1]))\n",
    "    node_text.append(f\"{adjacencies[0]} - # of connections: {len(adjacencies[1])}\")\n",
    "\n",
    "node_trace.marker.color = node_adjacencies\n",
    "node_trace.text = node_text\n",
    "edge_trace.text = edge_text\n",
    "\n",
    "fig = go.Figure(data=[edge_trace, node_trace],\n",
    "             layout=go.Layout(\n",
    "                showlegend=False,\n",
    "                hovermode='closest',\n",
    "                margin=dict(b=0, l=0, r=0, t=0),\n",
    "                xaxis=dict(showgrid=False, zeroline=False, showticklabels=False),\n",
    "                yaxis=dict(showgrid=False, zeroline=False, showticklabels=False),\n",
    "                annotations=annotations  # Add annotations\n",
    "                )\n",
    "                )\n",
    "\n",
    "fig.show()\n"
   ]
  },
  {
   "cell_type": "code",
   "execution_count": 18,
   "id": "090abefb-34f6-4f0f-bbcc-cb12b44312a0",
   "metadata": {
    "tags": []
   },
   "outputs": [
    {
     "name": "stdout",
     "output_type": "stream",
     "text": [
      "The key 'fdc_id' appears in the following files: {'food_attribute.csv', 'food_nutrient2.csv', 'food_nutrient_conversion_factor.csv', 'food.csv', 'food_nutrient.csv', 'food_portion.csv', 'sr_legacy_food.csv'}\n"
     ]
    }
   ],
   "source": [
    "# Given common key\n",
    "given_key = 'fdc_id'\n",
    "\n",
    "# Find the files that contain the given common key\n",
    "if given_key in key_file_dict:\n",
    "    files_with_given_key = key_file_dict[given_key]\n",
    "    print(f\"The key '{given_key}' appears in the following files: {files_with_given_key}\")\n",
    "else:\n",
    "    print(f\"The key '{given_key}' does not appear in any file.\")"
   ]
  },
  {
   "cell_type": "code",
   "execution_count": 19,
   "id": "f5063165-b8db-4731-bfa5-823e3e062665",
   "metadata": {
    "collapsed": true,
    "jupyter": {
     "outputs_hidden": true
    },
    "tags": []
   },
   "outputs": [
    {
     "name": "stdout",
     "output_type": "stream",
     "text": [
      "Total number of rows: 33\n",
      "   id  fdc_id  nutrient_id  amount  data_points  derivation_id  min  max  \\\n",
      "0 NaN    1001         1176    23.0          NaN            NaN  NaN  NaN   \n",
      "1 NaN    1001         1005    15.0          NaN            NaN  NaN  NaN   \n",
      "2 NaN    1001         1178   108.0          NaN            NaN  NaN  NaN   \n",
      "\n",
      "   median  footnote  min_year_acquired        label_name  \n",
      "0     NaN       NaN                NaN       Biotin (B7)  \n",
      "1     NaN       NaN                NaN  Carbohydrate (g)  \n",
      "2     NaN       NaN                NaN   Cobalamin (B12)  \n"
     ]
    }
   ],
   "source": [
    "# File to look for\n",
    "file_name = \"food_nutrient2.csv\"\n",
    "\n",
    "# Check if the file exists in the directory\n",
    "if file_name in all_files:\n",
    "    # Construct the full path to the file\n",
    "    full_file_path = os.path.join(data_dir, file_name)\n",
    "    \n",
    "    # Load the CSV file into a DataFrame\n",
    "    df = pd.read_csv(full_file_path)\n",
    "    row_count = len(df)\n",
    "    \n",
    "    # Preview file\n",
    "    print(f\"Total number of rows: {row_count}\")\n",
    "    print(df.head(3)) \n",
    "else:\n",
    "    print(f\"The file {file_name} does not exist in the directory {data_dir}.\")\n"
   ]
  },
  {
   "cell_type": "code",
   "execution_count": 21,
   "id": "d6af6146-f536-4db1-82ec-8fe9175611fc",
   "metadata": {
    "tags": []
   },
   "outputs": [
    {
     "name": "stdout",
     "output_type": "stream",
     "text": [
      "Total number of rows after filtering: 16\n",
      "   id  fdc_id  nutrient_id  amount  data_points  derivation_id  min  max  \\\n",
      "0 NaN    1001         1176    23.0          NaN            NaN  NaN  NaN   \n",
      "1 NaN    1001         1005    15.0          NaN            NaN  NaN  NaN   \n",
      "2 NaN    1001         1178   108.0          NaN            NaN  NaN  NaN   \n",
      "3 NaN    1001         1008   335.8          NaN            NaN  NaN  NaN   \n",
      "4 NaN    1001         1062  1407.0          NaN            NaN  NaN  NaN   \n",
      "\n",
      "   median  footnote  min_year_acquired        label_name  \n",
      "0     NaN       NaN                NaN       Biotin (B7)  \n",
      "1     NaN       NaN                NaN  Carbohydrate (g)  \n",
      "2     NaN       NaN                NaN   Cobalamin (B12)  \n",
      "3     NaN       NaN                NaN            Energy  \n",
      "4     NaN       NaN                NaN       Energy (kj)  \n"
     ]
    }
   ],
   "source": [
    "# Filter for rows where 'fdc_id' is a specific value, for example, 123456\n",
    "filtered_df = df[df['fdc_id'] == 1001]\n",
    "\n",
    "# Count the number of rows in the filtered DataFrame\n",
    "filtered_row_count = len(filtered_df)\n",
    "\n",
    "# Preview the filtered DataFrame\n",
    "print(f\"Total number of rows after filtering: {filtered_row_count}\")\n",
    "print(filtered_df.head())\n"
   ]
  },
  {
   "cell_type": "code",
   "execution_count": 14,
   "id": "91c4a214-9e48-498e-8bac-c77044baaa7d",
   "metadata": {
    "tags": []
   },
   "outputs": [
    {
     "name": "stdout",
     "output_type": "stream",
     "text": [
      "\u001b[95mPreview of food_calorie_conversion_factor.csv:\u001b[0m\n",
      "Number of rows: 4693\n",
      "--------------------------------------------------------------------------------\n",
      "   food_nutrient_conversion_factor_id  protein_value  fat_value  \\\n",
      "0                               11672            4.0        9.0   \n",
      "1                               11673            4.0        9.0   \n",
      "\n",
      "   carbohydrate_value  \n",
      "0                 4.0  \n",
      "1                 4.0  \n",
      "                                                  \n",
      "================================================================================\n",
      "\u001b[95mPreview of food_nutrient_derivation.csv:\u001b[0m\n",
      "Number of rows: 64\n",
      "--------------------------------------------------------------------------------\n",
      "   id code                                        description  source_id\n",
      "0   1    A                                         Analytical          1\n",
      "1   2   AI  Analytical data; from the literature or  gover...         10\n",
      "                                                  \n",
      "================================================================================\n",
      "\u001b[95mPreview of food_nutrient2.csv:\u001b[0m\n",
      "Number of rows: 35\n",
      "--------------------------------------------------------------------------------\n",
      "                                                                                                                  food_nutrient_added\n",
      "food_nutrient_added NaN    NaN         NaN    NaN         NaN           NaN NaN NaN    NaN      NaN                               NaN\n",
      "id                  fdc_id nutrient_id amount data_points derivation_id min max median footnote min_year_acquired          label_name\n",
      "                                                  \n",
      "================================================================================\n",
      "\u001b[95mPreview of sr_legacy_food.csv:\u001b[0m\n",
      "Number of rows: 7793\n",
      "--------------------------------------------------------------------------------\n",
      "   fdc_id  NDB_number\n",
      "0  167512       18634\n",
      "1  167513       18635\n",
      "                                                  \n",
      "================================================================================\n",
      "\u001b[95mPreview of food_nutrient_conversion_factor.csv:\u001b[0m\n",
      "Number of rows: 10770\n",
      "--------------------------------------------------------------------------------\n",
      "      id  fdc_id\n",
      "0  16365  167512\n",
      "1  16366  167513\n",
      "                                                  \n",
      "================================================================================\n",
      "\u001b[95mPreview of food_attribute_type.csv:\u001b[0m\n",
      "Number of rows: 5\n",
      "--------------------------------------------------------------------------------\n",
      "    id        name                          description\n",
      "0  998  Update Log  Changes that were made to this food\n",
      "1  999   Attribute                   Generic attributes\n",
      "                                                  \n",
      "================================================================================\n",
      "\u001b[95mPreview of food_attribute.csv:\u001b[0m\n",
      "Number of rows: 1074\n",
      "--------------------------------------------------------------------------------\n",
      "     id  fdc_id  seq_num  food_attribute_type_id  name        value\n",
      "0  2074  167525        0                    1000   NaN  Latino food\n",
      "1  2075  167526        0                    1000   NaN  Latino food\n",
      "                                                  \n",
      "================================================================================\n",
      "\u001b[95mPreview of retention_factor.csv:\u001b[0m\n",
      "Number of rows: 270\n",
      "--------------------------------------------------------------------------------\n",
      "   id  code  food_group_id      description\n",
      "0   1     1              1    CHEESE, BAKED\n",
      "1   2     3              1  CHEESE, BROILED\n",
      "                                                  \n",
      "================================================================================\n",
      "\u001b[95mPreview of food_update_log_entry.csv:\u001b[0m\n",
      "Number of rows: 7793\n",
      "--------------------------------------------------------------------------------\n",
      "       id                                        description last_updated\n",
      "0  167512  Pillsbury Golden Layer Buttermilk Biscuits, Ar...   2019-04-01\n",
      "1  167513  Pillsbury, Cinnamon Rolls with Icing, refriger...   2019-04-01\n",
      "                                                  \n",
      "================================================================================\n",
      "\u001b[95mPreview of measure_unit.csv:\u001b[0m\n",
      "Number of rows: 122\n",
      "--------------------------------------------------------------------------------\n",
      "     id        name\n",
      "0  1000         cup\n",
      "1  1001  tablespoon\n",
      "                                                  \n",
      "================================================================================\n",
      "\u001b[95mPreview of nutrient.csv:\u001b[0m\n",
      "Number of rows: 474\n",
      "--------------------------------------------------------------------------------\n",
      "     id                               name unit_name  nutrient_nbr   rank\n",
      "0  2047   Energy (Atwater General Factors)      KCAL         957.0  280.0\n",
      "1  2048  Energy (Atwater Specific Factors)      KCAL         958.0  290.0\n",
      "                                                  \n",
      "================================================================================\n",
      "\u001b[95mPreview of all_downloaded_table_record_counts.csv:\u001b[0m\n",
      "Number of rows: 9\n",
      "--------------------------------------------------------------------------------\n",
      "            Table  Number of Records\n",
      "0            food               7793\n",
      "1  food_attribute               1074\n",
      "                                                  \n",
      "================================================================================\n",
      "\u001b[95mPreview of food.csv:\u001b[0m\n",
      "Number of rows: 7793\n",
      "--------------------------------------------------------------------------------\n",
      "   fdc_id       data_type                                        description  \\\n",
      "0  167512  sr_legacy_food  Pillsbury Golden Layer Buttermilk Biscuits, Ar...   \n",
      "1  167513  sr_legacy_food  Pillsbury, Cinnamon Rolls with Icing, refriger...   \n",
      "\n",
      "   food_category_id publication_date  \n",
      "0                18       2019-04-01  \n",
      "1                18       2019-04-01  \n",
      "                                                  \n",
      "================================================================================\n",
      "\u001b[95mPreview of food_nutrient.csv:\u001b[0m\n",
      "Number of rows: 644125\n",
      "--------------------------------------------------------------------------------\n",
      "        id  fdc_id  nutrient_id  amount  data_points  derivation_id  min  max  \\\n",
      "0  1283674  167512         1003    5.88            1           46.0  NaN  NaN   \n",
      "1  1283675  167512         1007    3.50            1           46.0  NaN  NaN   \n",
      "\n",
      "   median footnote  min_year_acquired  \n",
      "0     NaN      NaN                NaN  \n",
      "1     NaN      NaN                NaN  \n",
      "                                                  \n",
      "================================================================================\n",
      "\u001b[95mPreview of food_nutrient_source.csv:\u001b[0m\n",
      "Number of rows: 10\n",
      "--------------------------------------------------------------------------------\n",
      "   id  code                            description\n",
      "0   1     1  Analytical or derived from analytical\n",
      "1   2     4                  Calculated or imputed\n",
      "                                                  \n",
      "================================================================================\n",
      "\u001b[95mPreview of food_protein_conversion_factor.csv:\u001b[0m\n",
      "Number of rows: 6077\n",
      "--------------------------------------------------------------------------------\n",
      "   food_nutrient_conversion_factor_id  value\n",
      "0                               16365   6.25\n",
      "1                               16366   6.25\n",
      "                                                  \n",
      "================================================================================\n",
      "\u001b[95mPreview of food_portion.csv:\u001b[0m\n",
      "Number of rows: 14449\n",
      "--------------------------------------------------------------------------------\n",
      "      id  fdc_id  seq_num  amount  measure_unit_id  portion_description  \\\n",
      "0  81549  167512        1     1.0             9999                  NaN   \n",
      "1  81550  167513        1     1.0             9999                  NaN   \n",
      "\n",
      "                    modifier  gram_weight  data_points  footnote  \\\n",
      "0                    serving         34.0          NaN       NaN   \n",
      "1  serving 1 roll with icing         44.0          1.0       NaN   \n",
      "\n",
      "   min_year_acquired  \n",
      "0                NaN  \n",
      "1                NaN  \n",
      "                                                  \n",
      "================================================================================\n",
      "\u001b[95mPreview of food_category.csv:\u001b[0m\n",
      "Number of rows: 28\n",
      "--------------------------------------------------------------------------------\n",
      "   id  code             description\n",
      "0   1   100  Dairy and Egg Products\n",
      "1   2   200        Spices and Herbs\n",
      "                                                  \n",
      "================================================================================\n"
     ]
    }
   ],
   "source": [
    "# Loop through each CSV file again to preview the first 2 rows and show additional info\n",
    "for csv_file in [f for f in all_files if f.endswith('.csv')]:\n",
    "    file_path = os.path.join(data_dir, csv_file)\n",
    "    df = pd.read_csv(file_path)\n",
    "    \n",
    "    # Preview the DataFrame\n",
    "    print(f\"\\033[95mPreview of {csv_file}:\\033[0m\")\n",
    "    print(f\"Number of rows: {len(df)}\")\n",
    "    print(\"-\"*80)\n",
    "    print(df.head(2))\n",
    "    print(\" \"*50)\n",
    "    \n",
    "    # Separator\n",
    "    print(\"=\"*80)\n"
   ]
  },
  {
   "cell_type": "code",
   "execution_count": null,
   "id": "55ed1ca5-9a34-4234-b98d-a93c665060b4",
   "metadata": {},
   "outputs": [],
   "source": []
  }
 ],
 "metadata": {
  "kernelspec": {
   "display_name": "Python 3 (ipykernel)",
   "language": "python",
   "name": "python3"
  },
  "language_info": {
   "codemirror_mode": {
    "name": "ipython",
    "version": 3
   },
   "file_extension": ".py",
   "mimetype": "text/x-python",
   "name": "python",
   "nbconvert_exporter": "python",
   "pygments_lexer": "ipython3",
   "version": "3.11.4"
  }
 },
 "nbformat": 4,
 "nbformat_minor": 5
}
